{
 "cells": [
  {
   "cell_type": "markdown",
   "id": "4330fa7a",
   "metadata": {},
   "source": [
    "## M5 Forecasting Accuracy - Modeling Experiment"
   ]
  },
  {
   "cell_type": "markdown",
   "id": "9122741b",
   "metadata": {},
   "source": [
    "## Loading Packages"
   ]
  },
  {
   "cell_type": "code",
   "execution_count": 1,
   "id": "9bf2d59a",
   "metadata": {},
   "outputs": [],
   "source": [
    "## Import Libraries\n",
    "import pandas as pd\n",
    "import numpy as np\n",
    "import seaborn as sns\n",
    "import matplotlib.pyplot as plt\n",
    "from downcast import reduce\n",
    "from sklearn import metrics\n",
    "from sklearn.metrics import mean_squared_error\n",
    "from sklearn import linear_model\n",
    "import pickle\n",
    "from sklearn import linear_model\n",
    "import lightgbm\n",
    "from lightgbm import LGBMRegressor\n",
    "from sklearn.tree import DecisionTreeRegressor"
   ]
  },
  {
   "cell_type": "markdown",
   "id": "752f1cee",
   "metadata": {},
   "source": [
    "## Loading Files"
   ]
  },
  {
   "cell_type": "code",
   "execution_count": 13,
   "id": "58b77906",
   "metadata": {},
   "outputs": [],
   "source": [
    "## Load files\n",
    "prices = pd.read_csv(\"sell_prices.csv\")\n",
    "\n",
    "calendar = pd.read_csv(\"calendar.csv\")\n",
    "\n",
    "sales = pd.read_csv(\"sales_train_evaluation.csv\")"
   ]
  },
  {
   "cell_type": "markdown",
   "id": "6c6d2525",
   "metadata": {},
   "source": [
    "## Feature Engineering"
   ]
  },
  {
   "cell_type": "code",
   "execution_count": 14,
   "id": "4be0b79a",
   "metadata": {},
   "outputs": [
    {
     "data": {
      "text/html": [
       "<div>\n",
       "<style scoped>\n",
       "    .dataframe tbody tr th:only-of-type {\n",
       "        vertical-align: middle;\n",
       "    }\n",
       "\n",
       "    .dataframe tbody tr th {\n",
       "        vertical-align: top;\n",
       "    }\n",
       "\n",
       "    .dataframe thead th {\n",
       "        text-align: right;\n",
       "    }\n",
       "</style>\n",
       "<table border=\"1\" class=\"dataframe\">\n",
       "  <thead>\n",
       "    <tr style=\"text-align: right;\">\n",
       "      <th></th>\n",
       "      <th>date</th>\n",
       "      <th>wm_yr_wk</th>\n",
       "      <th>weekday</th>\n",
       "      <th>wday</th>\n",
       "      <th>month</th>\n",
       "      <th>year</th>\n",
       "      <th>d</th>\n",
       "      <th>event_name_1</th>\n",
       "      <th>event_type_1</th>\n",
       "      <th>event_name_2</th>\n",
       "      <th>event_type_2</th>\n",
       "      <th>snap_CA</th>\n",
       "      <th>snap_TX</th>\n",
       "      <th>snap_WI</th>\n",
       "    </tr>\n",
       "  </thead>\n",
       "  <tbody>\n",
       "    <tr>\n",
       "      <th>0</th>\n",
       "      <td>2011-01-29</td>\n",
       "      <td>11101</td>\n",
       "      <td>Saturday</td>\n",
       "      <td>1</td>\n",
       "      <td>1</td>\n",
       "      <td>2011</td>\n",
       "      <td>d_1</td>\n",
       "      <td>No_event</td>\n",
       "      <td>No_event</td>\n",
       "      <td>No_event</td>\n",
       "      <td>No_event</td>\n",
       "      <td>0</td>\n",
       "      <td>0</td>\n",
       "      <td>0</td>\n",
       "    </tr>\n",
       "    <tr>\n",
       "      <th>1</th>\n",
       "      <td>2011-01-30</td>\n",
       "      <td>11101</td>\n",
       "      <td>Sunday</td>\n",
       "      <td>2</td>\n",
       "      <td>1</td>\n",
       "      <td>2011</td>\n",
       "      <td>d_2</td>\n",
       "      <td>No_event</td>\n",
       "      <td>No_event</td>\n",
       "      <td>No_event</td>\n",
       "      <td>No_event</td>\n",
       "      <td>0</td>\n",
       "      <td>0</td>\n",
       "      <td>0</td>\n",
       "    </tr>\n",
       "    <tr>\n",
       "      <th>2</th>\n",
       "      <td>2011-01-31</td>\n",
       "      <td>11101</td>\n",
       "      <td>Monday</td>\n",
       "      <td>3</td>\n",
       "      <td>1</td>\n",
       "      <td>2011</td>\n",
       "      <td>d_3</td>\n",
       "      <td>No_event</td>\n",
       "      <td>No_event</td>\n",
       "      <td>No_event</td>\n",
       "      <td>No_event</td>\n",
       "      <td>0</td>\n",
       "      <td>0</td>\n",
       "      <td>0</td>\n",
       "    </tr>\n",
       "    <tr>\n",
       "      <th>3</th>\n",
       "      <td>2011-02-01</td>\n",
       "      <td>11101</td>\n",
       "      <td>Tuesday</td>\n",
       "      <td>4</td>\n",
       "      <td>2</td>\n",
       "      <td>2011</td>\n",
       "      <td>d_4</td>\n",
       "      <td>No_event</td>\n",
       "      <td>No_event</td>\n",
       "      <td>No_event</td>\n",
       "      <td>No_event</td>\n",
       "      <td>1</td>\n",
       "      <td>1</td>\n",
       "      <td>0</td>\n",
       "    </tr>\n",
       "    <tr>\n",
       "      <th>4</th>\n",
       "      <td>2011-02-02</td>\n",
       "      <td>11101</td>\n",
       "      <td>Wednesday</td>\n",
       "      <td>5</td>\n",
       "      <td>2</td>\n",
       "      <td>2011</td>\n",
       "      <td>d_5</td>\n",
       "      <td>No_event</td>\n",
       "      <td>No_event</td>\n",
       "      <td>No_event</td>\n",
       "      <td>No_event</td>\n",
       "      <td>1</td>\n",
       "      <td>0</td>\n",
       "      <td>1</td>\n",
       "    </tr>\n",
       "  </tbody>\n",
       "</table>\n",
       "</div>"
      ],
      "text/plain": [
       "         date  wm_yr_wk    weekday  wday  month  year    d event_name_1  \\\n",
       "0  2011-01-29     11101   Saturday     1      1  2011  d_1     No_event   \n",
       "1  2011-01-30     11101     Sunday     2      1  2011  d_2     No_event   \n",
       "2  2011-01-31     11101     Monday     3      1  2011  d_3     No_event   \n",
       "3  2011-02-01     11101    Tuesday     4      2  2011  d_4     No_event   \n",
       "4  2011-02-02     11101  Wednesday     5      2  2011  d_5     No_event   \n",
       "\n",
       "  event_type_1 event_name_2 event_type_2  snap_CA  snap_TX  snap_WI  \n",
       "0     No_event     No_event     No_event        0        0        0  \n",
       "1     No_event     No_event     No_event        0        0        0  \n",
       "2     No_event     No_event     No_event        0        0        0  \n",
       "3     No_event     No_event     No_event        1        1        0  \n",
       "4     No_event     No_event     No_event        1        0        1  "
      ]
     },
     "execution_count": 14,
     "metadata": {},
     "output_type": "execute_result"
    }
   ],
   "source": [
    "## Fill for nans\n",
    "calendar.fillna('No_event',inplace=True)\n",
    "calendar.head(5)"
   ]
  },
  {
   "cell_type": "code",
   "execution_count": 15,
   "id": "9acaab6d",
   "metadata": {},
   "outputs": [],
   "source": [
    "## Reduce the size of the file\n",
    "sales= reduce(sales)\n",
    "prices= reduce(prices)\n",
    "calendar= reduce(calendar)"
   ]
  },
  {
   "cell_type": "markdown",
   "id": "fc905b3d",
   "metadata": {},
   "source": [
    "##\n",
    "As we identified sales are high from Jan to May, we will mark them as high sales month"
   ]
  },
  {
   "cell_type": "code",
   "execution_count": 16,
   "id": "ba0e304d",
   "metadata": {},
   "outputs": [
    {
     "data": {
      "text/html": [
       "<div>\n",
       "<style scoped>\n",
       "    .dataframe tbody tr th:only-of-type {\n",
       "        vertical-align: middle;\n",
       "    }\n",
       "\n",
       "    .dataframe tbody tr th {\n",
       "        vertical-align: top;\n",
       "    }\n",
       "\n",
       "    .dataframe thead th {\n",
       "        text-align: right;\n",
       "    }\n",
       "</style>\n",
       "<table border=\"1\" class=\"dataframe\">\n",
       "  <thead>\n",
       "    <tr style=\"text-align: right;\">\n",
       "      <th></th>\n",
       "      <th>date</th>\n",
       "      <th>wm_yr_wk</th>\n",
       "      <th>weekday</th>\n",
       "      <th>wday</th>\n",
       "      <th>month</th>\n",
       "      <th>year</th>\n",
       "      <th>d</th>\n",
       "      <th>event_name_1</th>\n",
       "      <th>event_type_1</th>\n",
       "      <th>event_name_2</th>\n",
       "      <th>event_type_2</th>\n",
       "      <th>snap_CA</th>\n",
       "      <th>snap_TX</th>\n",
       "      <th>snap_WI</th>\n",
       "      <th>is_high_sale_months</th>\n",
       "    </tr>\n",
       "  </thead>\n",
       "  <tbody>\n",
       "    <tr>\n",
       "      <th>0</th>\n",
       "      <td>2011-01-29</td>\n",
       "      <td>11101</td>\n",
       "      <td>Saturday</td>\n",
       "      <td>1</td>\n",
       "      <td>1</td>\n",
       "      <td>2011</td>\n",
       "      <td>d_1</td>\n",
       "      <td>No_event</td>\n",
       "      <td>No_event</td>\n",
       "      <td>No_event</td>\n",
       "      <td>No_event</td>\n",
       "      <td>0</td>\n",
       "      <td>0</td>\n",
       "      <td>0</td>\n",
       "      <td>0</td>\n",
       "    </tr>\n",
       "    <tr>\n",
       "      <th>1</th>\n",
       "      <td>2011-01-30</td>\n",
       "      <td>11101</td>\n",
       "      <td>Sunday</td>\n",
       "      <td>2</td>\n",
       "      <td>1</td>\n",
       "      <td>2011</td>\n",
       "      <td>d_2</td>\n",
       "      <td>No_event</td>\n",
       "      <td>No_event</td>\n",
       "      <td>No_event</td>\n",
       "      <td>No_event</td>\n",
       "      <td>0</td>\n",
       "      <td>0</td>\n",
       "      <td>0</td>\n",
       "      <td>0</td>\n",
       "    </tr>\n",
       "    <tr>\n",
       "      <th>2</th>\n",
       "      <td>2011-01-31</td>\n",
       "      <td>11101</td>\n",
       "      <td>Monday</td>\n",
       "      <td>3</td>\n",
       "      <td>1</td>\n",
       "      <td>2011</td>\n",
       "      <td>d_3</td>\n",
       "      <td>No_event</td>\n",
       "      <td>No_event</td>\n",
       "      <td>No_event</td>\n",
       "      <td>No_event</td>\n",
       "      <td>0</td>\n",
       "      <td>0</td>\n",
       "      <td>0</td>\n",
       "      <td>0</td>\n",
       "    </tr>\n",
       "    <tr>\n",
       "      <th>3</th>\n",
       "      <td>2011-02-01</td>\n",
       "      <td>11101</td>\n",
       "      <td>Tuesday</td>\n",
       "      <td>4</td>\n",
       "      <td>2</td>\n",
       "      <td>2011</td>\n",
       "      <td>d_4</td>\n",
       "      <td>No_event</td>\n",
       "      <td>No_event</td>\n",
       "      <td>No_event</td>\n",
       "      <td>No_event</td>\n",
       "      <td>1</td>\n",
       "      <td>1</td>\n",
       "      <td>0</td>\n",
       "      <td>1</td>\n",
       "    </tr>\n",
       "    <tr>\n",
       "      <th>4</th>\n",
       "      <td>2011-02-02</td>\n",
       "      <td>11101</td>\n",
       "      <td>Wednesday</td>\n",
       "      <td>5</td>\n",
       "      <td>2</td>\n",
       "      <td>2011</td>\n",
       "      <td>d_5</td>\n",
       "      <td>No_event</td>\n",
       "      <td>No_event</td>\n",
       "      <td>No_event</td>\n",
       "      <td>No_event</td>\n",
       "      <td>1</td>\n",
       "      <td>0</td>\n",
       "      <td>1</td>\n",
       "      <td>1</td>\n",
       "    </tr>\n",
       "    <tr>\n",
       "      <th>...</th>\n",
       "      <td>...</td>\n",
       "      <td>...</td>\n",
       "      <td>...</td>\n",
       "      <td>...</td>\n",
       "      <td>...</td>\n",
       "      <td>...</td>\n",
       "      <td>...</td>\n",
       "      <td>...</td>\n",
       "      <td>...</td>\n",
       "      <td>...</td>\n",
       "      <td>...</td>\n",
       "      <td>...</td>\n",
       "      <td>...</td>\n",
       "      <td>...</td>\n",
       "      <td>...</td>\n",
       "    </tr>\n",
       "    <tr>\n",
       "      <th>1964</th>\n",
       "      <td>2016-06-15</td>\n",
       "      <td>11620</td>\n",
       "      <td>Wednesday</td>\n",
       "      <td>5</td>\n",
       "      <td>6</td>\n",
       "      <td>2016</td>\n",
       "      <td>d_1965</td>\n",
       "      <td>No_event</td>\n",
       "      <td>No_event</td>\n",
       "      <td>No_event</td>\n",
       "      <td>No_event</td>\n",
       "      <td>0</td>\n",
       "      <td>1</td>\n",
       "      <td>1</td>\n",
       "      <td>0</td>\n",
       "    </tr>\n",
       "    <tr>\n",
       "      <th>1965</th>\n",
       "      <td>2016-06-16</td>\n",
       "      <td>11620</td>\n",
       "      <td>Thursday</td>\n",
       "      <td>6</td>\n",
       "      <td>6</td>\n",
       "      <td>2016</td>\n",
       "      <td>d_1966</td>\n",
       "      <td>No_event</td>\n",
       "      <td>No_event</td>\n",
       "      <td>No_event</td>\n",
       "      <td>No_event</td>\n",
       "      <td>0</td>\n",
       "      <td>0</td>\n",
       "      <td>0</td>\n",
       "      <td>0</td>\n",
       "    </tr>\n",
       "    <tr>\n",
       "      <th>1966</th>\n",
       "      <td>2016-06-17</td>\n",
       "      <td>11620</td>\n",
       "      <td>Friday</td>\n",
       "      <td>7</td>\n",
       "      <td>6</td>\n",
       "      <td>2016</td>\n",
       "      <td>d_1967</td>\n",
       "      <td>No_event</td>\n",
       "      <td>No_event</td>\n",
       "      <td>No_event</td>\n",
       "      <td>No_event</td>\n",
       "      <td>0</td>\n",
       "      <td>0</td>\n",
       "      <td>0</td>\n",
       "      <td>0</td>\n",
       "    </tr>\n",
       "    <tr>\n",
       "      <th>1967</th>\n",
       "      <td>2016-06-18</td>\n",
       "      <td>11621</td>\n",
       "      <td>Saturday</td>\n",
       "      <td>1</td>\n",
       "      <td>6</td>\n",
       "      <td>2016</td>\n",
       "      <td>d_1968</td>\n",
       "      <td>No_event</td>\n",
       "      <td>No_event</td>\n",
       "      <td>No_event</td>\n",
       "      <td>No_event</td>\n",
       "      <td>0</td>\n",
       "      <td>0</td>\n",
       "      <td>0</td>\n",
       "      <td>0</td>\n",
       "    </tr>\n",
       "    <tr>\n",
       "      <th>1968</th>\n",
       "      <td>2016-06-19</td>\n",
       "      <td>11621</td>\n",
       "      <td>Sunday</td>\n",
       "      <td>2</td>\n",
       "      <td>6</td>\n",
       "      <td>2016</td>\n",
       "      <td>d_1969</td>\n",
       "      <td>NBAFinalsEnd</td>\n",
       "      <td>Sporting</td>\n",
       "      <td>Father's day</td>\n",
       "      <td>Cultural</td>\n",
       "      <td>0</td>\n",
       "      <td>0</td>\n",
       "      <td>0</td>\n",
       "      <td>0</td>\n",
       "    </tr>\n",
       "  </tbody>\n",
       "</table>\n",
       "<p>1969 rows × 15 columns</p>\n",
       "</div>"
      ],
      "text/plain": [
       "           date  wm_yr_wk    weekday  wday  month  year       d  event_name_1  \\\n",
       "0    2011-01-29     11101   Saturday     1      1  2011     d_1      No_event   \n",
       "1    2011-01-30     11101     Sunday     2      1  2011     d_2      No_event   \n",
       "2    2011-01-31     11101     Monday     3      1  2011     d_3      No_event   \n",
       "3    2011-02-01     11101    Tuesday     4      2  2011     d_4      No_event   \n",
       "4    2011-02-02     11101  Wednesday     5      2  2011     d_5      No_event   \n",
       "...         ...       ...        ...   ...    ...   ...     ...           ...   \n",
       "1964 2016-06-15     11620  Wednesday     5      6  2016  d_1965      No_event   \n",
       "1965 2016-06-16     11620   Thursday     6      6  2016  d_1966      No_event   \n",
       "1966 2016-06-17     11620     Friday     7      6  2016  d_1967      No_event   \n",
       "1967 2016-06-18     11621   Saturday     1      6  2016  d_1968      No_event   \n",
       "1968 2016-06-19     11621     Sunday     2      6  2016  d_1969  NBAFinalsEnd   \n",
       "\n",
       "     event_type_1  event_name_2 event_type_2  snap_CA  snap_TX  snap_WI  \\\n",
       "0        No_event      No_event     No_event        0        0        0   \n",
       "1        No_event      No_event     No_event        0        0        0   \n",
       "2        No_event      No_event     No_event        0        0        0   \n",
       "3        No_event      No_event     No_event        1        1        0   \n",
       "4        No_event      No_event     No_event        1        0        1   \n",
       "...           ...           ...          ...      ...      ...      ...   \n",
       "1964     No_event      No_event     No_event        0        1        1   \n",
       "1965     No_event      No_event     No_event        0        0        0   \n",
       "1966     No_event      No_event     No_event        0        0        0   \n",
       "1967     No_event      No_event     No_event        0        0        0   \n",
       "1968     Sporting  Father's day     Cultural        0        0        0   \n",
       "\n",
       "      is_high_sale_months  \n",
       "0                       0  \n",
       "1                       0  \n",
       "2                       0  \n",
       "3                       1  \n",
       "4                       1  \n",
       "...                   ...  \n",
       "1964                    0  \n",
       "1965                    0  \n",
       "1966                    0  \n",
       "1967                    0  \n",
       "1968                    0  \n",
       "\n",
       "[1969 rows x 15 columns]"
      ]
     },
     "execution_count": 16,
     "metadata": {},
     "output_type": "execute_result"
    }
   ],
   "source": [
    "f=lambda x: 1 if x==2 or x==3 or x==4 or x==5 else 0\n",
    "calendar['is_high_sale_months']=calendar['month'].map(f) \n",
    "calendar"
   ]
  },
  {
   "cell_type": "markdown",
   "id": "e53dd64b",
   "metadata": {},
   "source": [
    "##\n",
    "Sales are highest on weekends, i.e Friday, saturday and Sunday, hence they would be marked as high sales day"
   ]
  },
  {
   "cell_type": "code",
   "execution_count": 17,
   "id": "c58fcc87",
   "metadata": {},
   "outputs": [
    {
     "data": {
      "text/html": [
       "<div>\n",
       "<style scoped>\n",
       "    .dataframe tbody tr th:only-of-type {\n",
       "        vertical-align: middle;\n",
       "    }\n",
       "\n",
       "    .dataframe tbody tr th {\n",
       "        vertical-align: top;\n",
       "    }\n",
       "\n",
       "    .dataframe thead th {\n",
       "        text-align: right;\n",
       "    }\n",
       "</style>\n",
       "<table border=\"1\" class=\"dataframe\">\n",
       "  <thead>\n",
       "    <tr style=\"text-align: right;\">\n",
       "      <th></th>\n",
       "      <th>date</th>\n",
       "      <th>wm_yr_wk</th>\n",
       "      <th>weekday</th>\n",
       "      <th>wday</th>\n",
       "      <th>month</th>\n",
       "      <th>year</th>\n",
       "      <th>d</th>\n",
       "      <th>event_name_1</th>\n",
       "      <th>event_type_1</th>\n",
       "      <th>event_name_2</th>\n",
       "      <th>event_type_2</th>\n",
       "      <th>snap_CA</th>\n",
       "      <th>snap_TX</th>\n",
       "      <th>snap_WI</th>\n",
       "      <th>is_high_sale_months</th>\n",
       "      <th>is_high_sale_day</th>\n",
       "    </tr>\n",
       "  </thead>\n",
       "  <tbody>\n",
       "    <tr>\n",
       "      <th>0</th>\n",
       "      <td>2011-01-29</td>\n",
       "      <td>11101</td>\n",
       "      <td>Saturday</td>\n",
       "      <td>1</td>\n",
       "      <td>1</td>\n",
       "      <td>2011</td>\n",
       "      <td>d_1</td>\n",
       "      <td>No_event</td>\n",
       "      <td>No_event</td>\n",
       "      <td>No_event</td>\n",
       "      <td>No_event</td>\n",
       "      <td>0</td>\n",
       "      <td>0</td>\n",
       "      <td>0</td>\n",
       "      <td>0</td>\n",
       "      <td>1</td>\n",
       "    </tr>\n",
       "    <tr>\n",
       "      <th>1</th>\n",
       "      <td>2011-01-30</td>\n",
       "      <td>11101</td>\n",
       "      <td>Sunday</td>\n",
       "      <td>2</td>\n",
       "      <td>1</td>\n",
       "      <td>2011</td>\n",
       "      <td>d_2</td>\n",
       "      <td>No_event</td>\n",
       "      <td>No_event</td>\n",
       "      <td>No_event</td>\n",
       "      <td>No_event</td>\n",
       "      <td>0</td>\n",
       "      <td>0</td>\n",
       "      <td>0</td>\n",
       "      <td>0</td>\n",
       "      <td>1</td>\n",
       "    </tr>\n",
       "    <tr>\n",
       "      <th>2</th>\n",
       "      <td>2011-01-31</td>\n",
       "      <td>11101</td>\n",
       "      <td>Monday</td>\n",
       "      <td>3</td>\n",
       "      <td>1</td>\n",
       "      <td>2011</td>\n",
       "      <td>d_3</td>\n",
       "      <td>No_event</td>\n",
       "      <td>No_event</td>\n",
       "      <td>No_event</td>\n",
       "      <td>No_event</td>\n",
       "      <td>0</td>\n",
       "      <td>0</td>\n",
       "      <td>0</td>\n",
       "      <td>0</td>\n",
       "      <td>0</td>\n",
       "    </tr>\n",
       "    <tr>\n",
       "      <th>3</th>\n",
       "      <td>2011-02-01</td>\n",
       "      <td>11101</td>\n",
       "      <td>Tuesday</td>\n",
       "      <td>4</td>\n",
       "      <td>2</td>\n",
       "      <td>2011</td>\n",
       "      <td>d_4</td>\n",
       "      <td>No_event</td>\n",
       "      <td>No_event</td>\n",
       "      <td>No_event</td>\n",
       "      <td>No_event</td>\n",
       "      <td>1</td>\n",
       "      <td>1</td>\n",
       "      <td>0</td>\n",
       "      <td>1</td>\n",
       "      <td>0</td>\n",
       "    </tr>\n",
       "    <tr>\n",
       "      <th>4</th>\n",
       "      <td>2011-02-02</td>\n",
       "      <td>11101</td>\n",
       "      <td>Wednesday</td>\n",
       "      <td>5</td>\n",
       "      <td>2</td>\n",
       "      <td>2011</td>\n",
       "      <td>d_5</td>\n",
       "      <td>No_event</td>\n",
       "      <td>No_event</td>\n",
       "      <td>No_event</td>\n",
       "      <td>No_event</td>\n",
       "      <td>1</td>\n",
       "      <td>0</td>\n",
       "      <td>1</td>\n",
       "      <td>1</td>\n",
       "      <td>0</td>\n",
       "    </tr>\n",
       "    <tr>\n",
       "      <th>...</th>\n",
       "      <td>...</td>\n",
       "      <td>...</td>\n",
       "      <td>...</td>\n",
       "      <td>...</td>\n",
       "      <td>...</td>\n",
       "      <td>...</td>\n",
       "      <td>...</td>\n",
       "      <td>...</td>\n",
       "      <td>...</td>\n",
       "      <td>...</td>\n",
       "      <td>...</td>\n",
       "      <td>...</td>\n",
       "      <td>...</td>\n",
       "      <td>...</td>\n",
       "      <td>...</td>\n",
       "      <td>...</td>\n",
       "    </tr>\n",
       "    <tr>\n",
       "      <th>1964</th>\n",
       "      <td>2016-06-15</td>\n",
       "      <td>11620</td>\n",
       "      <td>Wednesday</td>\n",
       "      <td>5</td>\n",
       "      <td>6</td>\n",
       "      <td>2016</td>\n",
       "      <td>d_1965</td>\n",
       "      <td>No_event</td>\n",
       "      <td>No_event</td>\n",
       "      <td>No_event</td>\n",
       "      <td>No_event</td>\n",
       "      <td>0</td>\n",
       "      <td>1</td>\n",
       "      <td>1</td>\n",
       "      <td>0</td>\n",
       "      <td>0</td>\n",
       "    </tr>\n",
       "    <tr>\n",
       "      <th>1965</th>\n",
       "      <td>2016-06-16</td>\n",
       "      <td>11620</td>\n",
       "      <td>Thursday</td>\n",
       "      <td>6</td>\n",
       "      <td>6</td>\n",
       "      <td>2016</td>\n",
       "      <td>d_1966</td>\n",
       "      <td>No_event</td>\n",
       "      <td>No_event</td>\n",
       "      <td>No_event</td>\n",
       "      <td>No_event</td>\n",
       "      <td>0</td>\n",
       "      <td>0</td>\n",
       "      <td>0</td>\n",
       "      <td>0</td>\n",
       "      <td>0</td>\n",
       "    </tr>\n",
       "    <tr>\n",
       "      <th>1966</th>\n",
       "      <td>2016-06-17</td>\n",
       "      <td>11620</td>\n",
       "      <td>Friday</td>\n",
       "      <td>7</td>\n",
       "      <td>6</td>\n",
       "      <td>2016</td>\n",
       "      <td>d_1967</td>\n",
       "      <td>No_event</td>\n",
       "      <td>No_event</td>\n",
       "      <td>No_event</td>\n",
       "      <td>No_event</td>\n",
       "      <td>0</td>\n",
       "      <td>0</td>\n",
       "      <td>0</td>\n",
       "      <td>0</td>\n",
       "      <td>1</td>\n",
       "    </tr>\n",
       "    <tr>\n",
       "      <th>1967</th>\n",
       "      <td>2016-06-18</td>\n",
       "      <td>11621</td>\n",
       "      <td>Saturday</td>\n",
       "      <td>1</td>\n",
       "      <td>6</td>\n",
       "      <td>2016</td>\n",
       "      <td>d_1968</td>\n",
       "      <td>No_event</td>\n",
       "      <td>No_event</td>\n",
       "      <td>No_event</td>\n",
       "      <td>No_event</td>\n",
       "      <td>0</td>\n",
       "      <td>0</td>\n",
       "      <td>0</td>\n",
       "      <td>0</td>\n",
       "      <td>1</td>\n",
       "    </tr>\n",
       "    <tr>\n",
       "      <th>1968</th>\n",
       "      <td>2016-06-19</td>\n",
       "      <td>11621</td>\n",
       "      <td>Sunday</td>\n",
       "      <td>2</td>\n",
       "      <td>6</td>\n",
       "      <td>2016</td>\n",
       "      <td>d_1969</td>\n",
       "      <td>NBAFinalsEnd</td>\n",
       "      <td>Sporting</td>\n",
       "      <td>Father's day</td>\n",
       "      <td>Cultural</td>\n",
       "      <td>0</td>\n",
       "      <td>0</td>\n",
       "      <td>0</td>\n",
       "      <td>0</td>\n",
       "      <td>1</td>\n",
       "    </tr>\n",
       "  </tbody>\n",
       "</table>\n",
       "<p>1969 rows × 16 columns</p>\n",
       "</div>"
      ],
      "text/plain": [
       "           date  wm_yr_wk    weekday  wday  month  year       d  event_name_1  \\\n",
       "0    2011-01-29     11101   Saturday     1      1  2011     d_1      No_event   \n",
       "1    2011-01-30     11101     Sunday     2      1  2011     d_2      No_event   \n",
       "2    2011-01-31     11101     Monday     3      1  2011     d_3      No_event   \n",
       "3    2011-02-01     11101    Tuesday     4      2  2011     d_4      No_event   \n",
       "4    2011-02-02     11101  Wednesday     5      2  2011     d_5      No_event   \n",
       "...         ...       ...        ...   ...    ...   ...     ...           ...   \n",
       "1964 2016-06-15     11620  Wednesday     5      6  2016  d_1965      No_event   \n",
       "1965 2016-06-16     11620   Thursday     6      6  2016  d_1966      No_event   \n",
       "1966 2016-06-17     11620     Friday     7      6  2016  d_1967      No_event   \n",
       "1967 2016-06-18     11621   Saturday     1      6  2016  d_1968      No_event   \n",
       "1968 2016-06-19     11621     Sunday     2      6  2016  d_1969  NBAFinalsEnd   \n",
       "\n",
       "     event_type_1  event_name_2 event_type_2  snap_CA  snap_TX  snap_WI  \\\n",
       "0        No_event      No_event     No_event        0        0        0   \n",
       "1        No_event      No_event     No_event        0        0        0   \n",
       "2        No_event      No_event     No_event        0        0        0   \n",
       "3        No_event      No_event     No_event        1        1        0   \n",
       "4        No_event      No_event     No_event        1        0        1   \n",
       "...           ...           ...          ...      ...      ...      ...   \n",
       "1964     No_event      No_event     No_event        0        1        1   \n",
       "1965     No_event      No_event     No_event        0        0        0   \n",
       "1966     No_event      No_event     No_event        0        0        0   \n",
       "1967     No_event      No_event     No_event        0        0        0   \n",
       "1968     Sporting  Father's day     Cultural        0        0        0   \n",
       "\n",
       "      is_high_sale_months  is_high_sale_day  \n",
       "0                       0                 1  \n",
       "1                       0                 1  \n",
       "2                       0                 0  \n",
       "3                       1                 0  \n",
       "4                       1                 0  \n",
       "...                   ...               ...  \n",
       "1964                    0                 0  \n",
       "1965                    0                 0  \n",
       "1966                    0                 1  \n",
       "1967                    0                 1  \n",
       "1968                    0                 1  \n",
       "\n",
       "[1969 rows x 16 columns]"
      ]
     },
     "execution_count": 17,
     "metadata": {},
     "output_type": "execute_result"
    }
   ],
   "source": [
    "f=lambda x: 1 if x==7 or x==1 or x==2 else 0\n",
    "calendar['is_high_sale_day']=calendar['wday'].map(f) \n",
    "calendar"
   ]
  },
  {
   "cell_type": "markdown",
   "id": "deabbe18",
   "metadata": {},
   "source": [
    "##\n",
    "Christmas is a no sales day, probably because the stores are closed"
   ]
  },
  {
   "cell_type": "code",
   "execution_count": 18,
   "id": "1043a2c6",
   "metadata": {},
   "outputs": [
    {
     "data": {
      "text/html": [
       "<div>\n",
       "<style scoped>\n",
       "    .dataframe tbody tr th:only-of-type {\n",
       "        vertical-align: middle;\n",
       "    }\n",
       "\n",
       "    .dataframe tbody tr th {\n",
       "        vertical-align: top;\n",
       "    }\n",
       "\n",
       "    .dataframe thead th {\n",
       "        text-align: right;\n",
       "    }\n",
       "</style>\n",
       "<table border=\"1\" class=\"dataframe\">\n",
       "  <thead>\n",
       "    <tr style=\"text-align: right;\">\n",
       "      <th></th>\n",
       "      <th>date</th>\n",
       "      <th>wm_yr_wk</th>\n",
       "      <th>weekday</th>\n",
       "      <th>wday</th>\n",
       "      <th>month</th>\n",
       "      <th>year</th>\n",
       "      <th>d</th>\n",
       "      <th>event_name_1</th>\n",
       "      <th>event_type_1</th>\n",
       "      <th>event_name_2</th>\n",
       "      <th>event_type_2</th>\n",
       "      <th>snap_CA</th>\n",
       "      <th>snap_TX</th>\n",
       "      <th>snap_WI</th>\n",
       "      <th>is_high_sale_months</th>\n",
       "      <th>is_high_sale_day</th>\n",
       "      <th>is_christmas</th>\n",
       "    </tr>\n",
       "  </thead>\n",
       "  <tbody>\n",
       "    <tr>\n",
       "      <th>0</th>\n",
       "      <td>2011-01-29</td>\n",
       "      <td>11101</td>\n",
       "      <td>Saturday</td>\n",
       "      <td>1</td>\n",
       "      <td>1</td>\n",
       "      <td>2011</td>\n",
       "      <td>d_1</td>\n",
       "      <td>No_event</td>\n",
       "      <td>No_event</td>\n",
       "      <td>No_event</td>\n",
       "      <td>No_event</td>\n",
       "      <td>0</td>\n",
       "      <td>0</td>\n",
       "      <td>0</td>\n",
       "      <td>0</td>\n",
       "      <td>1</td>\n",
       "      <td>0</td>\n",
       "    </tr>\n",
       "    <tr>\n",
       "      <th>1</th>\n",
       "      <td>2011-01-30</td>\n",
       "      <td>11101</td>\n",
       "      <td>Sunday</td>\n",
       "      <td>2</td>\n",
       "      <td>1</td>\n",
       "      <td>2011</td>\n",
       "      <td>d_2</td>\n",
       "      <td>No_event</td>\n",
       "      <td>No_event</td>\n",
       "      <td>No_event</td>\n",
       "      <td>No_event</td>\n",
       "      <td>0</td>\n",
       "      <td>0</td>\n",
       "      <td>0</td>\n",
       "      <td>0</td>\n",
       "      <td>1</td>\n",
       "      <td>0</td>\n",
       "    </tr>\n",
       "    <tr>\n",
       "      <th>2</th>\n",
       "      <td>2011-01-31</td>\n",
       "      <td>11101</td>\n",
       "      <td>Monday</td>\n",
       "      <td>3</td>\n",
       "      <td>1</td>\n",
       "      <td>2011</td>\n",
       "      <td>d_3</td>\n",
       "      <td>No_event</td>\n",
       "      <td>No_event</td>\n",
       "      <td>No_event</td>\n",
       "      <td>No_event</td>\n",
       "      <td>0</td>\n",
       "      <td>0</td>\n",
       "      <td>0</td>\n",
       "      <td>0</td>\n",
       "      <td>0</td>\n",
       "      <td>0</td>\n",
       "    </tr>\n",
       "    <tr>\n",
       "      <th>3</th>\n",
       "      <td>2011-02-01</td>\n",
       "      <td>11101</td>\n",
       "      <td>Tuesday</td>\n",
       "      <td>4</td>\n",
       "      <td>2</td>\n",
       "      <td>2011</td>\n",
       "      <td>d_4</td>\n",
       "      <td>No_event</td>\n",
       "      <td>No_event</td>\n",
       "      <td>No_event</td>\n",
       "      <td>No_event</td>\n",
       "      <td>1</td>\n",
       "      <td>1</td>\n",
       "      <td>0</td>\n",
       "      <td>1</td>\n",
       "      <td>0</td>\n",
       "      <td>0</td>\n",
       "    </tr>\n",
       "    <tr>\n",
       "      <th>4</th>\n",
       "      <td>2011-02-02</td>\n",
       "      <td>11101</td>\n",
       "      <td>Wednesday</td>\n",
       "      <td>5</td>\n",
       "      <td>2</td>\n",
       "      <td>2011</td>\n",
       "      <td>d_5</td>\n",
       "      <td>No_event</td>\n",
       "      <td>No_event</td>\n",
       "      <td>No_event</td>\n",
       "      <td>No_event</td>\n",
       "      <td>1</td>\n",
       "      <td>0</td>\n",
       "      <td>1</td>\n",
       "      <td>1</td>\n",
       "      <td>0</td>\n",
       "      <td>0</td>\n",
       "    </tr>\n",
       "    <tr>\n",
       "      <th>...</th>\n",
       "      <td>...</td>\n",
       "      <td>...</td>\n",
       "      <td>...</td>\n",
       "      <td>...</td>\n",
       "      <td>...</td>\n",
       "      <td>...</td>\n",
       "      <td>...</td>\n",
       "      <td>...</td>\n",
       "      <td>...</td>\n",
       "      <td>...</td>\n",
       "      <td>...</td>\n",
       "      <td>...</td>\n",
       "      <td>...</td>\n",
       "      <td>...</td>\n",
       "      <td>...</td>\n",
       "      <td>...</td>\n",
       "      <td>...</td>\n",
       "    </tr>\n",
       "    <tr>\n",
       "      <th>1964</th>\n",
       "      <td>2016-06-15</td>\n",
       "      <td>11620</td>\n",
       "      <td>Wednesday</td>\n",
       "      <td>5</td>\n",
       "      <td>6</td>\n",
       "      <td>2016</td>\n",
       "      <td>d_1965</td>\n",
       "      <td>No_event</td>\n",
       "      <td>No_event</td>\n",
       "      <td>No_event</td>\n",
       "      <td>No_event</td>\n",
       "      <td>0</td>\n",
       "      <td>1</td>\n",
       "      <td>1</td>\n",
       "      <td>0</td>\n",
       "      <td>0</td>\n",
       "      <td>0</td>\n",
       "    </tr>\n",
       "    <tr>\n",
       "      <th>1965</th>\n",
       "      <td>2016-06-16</td>\n",
       "      <td>11620</td>\n",
       "      <td>Thursday</td>\n",
       "      <td>6</td>\n",
       "      <td>6</td>\n",
       "      <td>2016</td>\n",
       "      <td>d_1966</td>\n",
       "      <td>No_event</td>\n",
       "      <td>No_event</td>\n",
       "      <td>No_event</td>\n",
       "      <td>No_event</td>\n",
       "      <td>0</td>\n",
       "      <td>0</td>\n",
       "      <td>0</td>\n",
       "      <td>0</td>\n",
       "      <td>0</td>\n",
       "      <td>0</td>\n",
       "    </tr>\n",
       "    <tr>\n",
       "      <th>1966</th>\n",
       "      <td>2016-06-17</td>\n",
       "      <td>11620</td>\n",
       "      <td>Friday</td>\n",
       "      <td>7</td>\n",
       "      <td>6</td>\n",
       "      <td>2016</td>\n",
       "      <td>d_1967</td>\n",
       "      <td>No_event</td>\n",
       "      <td>No_event</td>\n",
       "      <td>No_event</td>\n",
       "      <td>No_event</td>\n",
       "      <td>0</td>\n",
       "      <td>0</td>\n",
       "      <td>0</td>\n",
       "      <td>0</td>\n",
       "      <td>1</td>\n",
       "      <td>0</td>\n",
       "    </tr>\n",
       "    <tr>\n",
       "      <th>1967</th>\n",
       "      <td>2016-06-18</td>\n",
       "      <td>11621</td>\n",
       "      <td>Saturday</td>\n",
       "      <td>1</td>\n",
       "      <td>6</td>\n",
       "      <td>2016</td>\n",
       "      <td>d_1968</td>\n",
       "      <td>No_event</td>\n",
       "      <td>No_event</td>\n",
       "      <td>No_event</td>\n",
       "      <td>No_event</td>\n",
       "      <td>0</td>\n",
       "      <td>0</td>\n",
       "      <td>0</td>\n",
       "      <td>0</td>\n",
       "      <td>1</td>\n",
       "      <td>0</td>\n",
       "    </tr>\n",
       "    <tr>\n",
       "      <th>1968</th>\n",
       "      <td>2016-06-19</td>\n",
       "      <td>11621</td>\n",
       "      <td>Sunday</td>\n",
       "      <td>2</td>\n",
       "      <td>6</td>\n",
       "      <td>2016</td>\n",
       "      <td>d_1969</td>\n",
       "      <td>NBAFinalsEnd</td>\n",
       "      <td>Sporting</td>\n",
       "      <td>Father's day</td>\n",
       "      <td>Cultural</td>\n",
       "      <td>0</td>\n",
       "      <td>0</td>\n",
       "      <td>0</td>\n",
       "      <td>0</td>\n",
       "      <td>1</td>\n",
       "      <td>0</td>\n",
       "    </tr>\n",
       "  </tbody>\n",
       "</table>\n",
       "<p>1969 rows × 17 columns</p>\n",
       "</div>"
      ],
      "text/plain": [
       "           date  wm_yr_wk    weekday  wday  month  year       d  event_name_1  \\\n",
       "0    2011-01-29     11101   Saturday     1      1  2011     d_1      No_event   \n",
       "1    2011-01-30     11101     Sunday     2      1  2011     d_2      No_event   \n",
       "2    2011-01-31     11101     Monday     3      1  2011     d_3      No_event   \n",
       "3    2011-02-01     11101    Tuesday     4      2  2011     d_4      No_event   \n",
       "4    2011-02-02     11101  Wednesday     5      2  2011     d_5      No_event   \n",
       "...         ...       ...        ...   ...    ...   ...     ...           ...   \n",
       "1964 2016-06-15     11620  Wednesday     5      6  2016  d_1965      No_event   \n",
       "1965 2016-06-16     11620   Thursday     6      6  2016  d_1966      No_event   \n",
       "1966 2016-06-17     11620     Friday     7      6  2016  d_1967      No_event   \n",
       "1967 2016-06-18     11621   Saturday     1      6  2016  d_1968      No_event   \n",
       "1968 2016-06-19     11621     Sunday     2      6  2016  d_1969  NBAFinalsEnd   \n",
       "\n",
       "     event_type_1  event_name_2 event_type_2  snap_CA  snap_TX  snap_WI  \\\n",
       "0        No_event      No_event     No_event        0        0        0   \n",
       "1        No_event      No_event     No_event        0        0        0   \n",
       "2        No_event      No_event     No_event        0        0        0   \n",
       "3        No_event      No_event     No_event        1        1        0   \n",
       "4        No_event      No_event     No_event        1        0        1   \n",
       "...           ...           ...          ...      ...      ...      ...   \n",
       "1964     No_event      No_event     No_event        0        1        1   \n",
       "1965     No_event      No_event     No_event        0        0        0   \n",
       "1966     No_event      No_event     No_event        0        0        0   \n",
       "1967     No_event      No_event     No_event        0        0        0   \n",
       "1968     Sporting  Father's day     Cultural        0        0        0   \n",
       "\n",
       "      is_high_sale_months  is_high_sale_day  is_christmas  \n",
       "0                       0                 1             0  \n",
       "1                       0                 1             0  \n",
       "2                       0                 0             0  \n",
       "3                       1                 0             0  \n",
       "4                       1                 0             0  \n",
       "...                   ...               ...           ...  \n",
       "1964                    0                 0             0  \n",
       "1965                    0                 0             0  \n",
       "1966                    0                 1             0  \n",
       "1967                    0                 1             0  \n",
       "1968                    0                 1             0  \n",
       "\n",
       "[1969 rows x 17 columns]"
      ]
     },
     "execution_count": 18,
     "metadata": {},
     "output_type": "execute_result"
    }
   ],
   "source": [
    "f=lambda x: 1 if x=='Christmas' else 0\n",
    "calendar['is_christmas']=calendar['event_name_1'].map(f)\n",
    "calendar"
   ]
  },
  {
   "cell_type": "code",
   "execution_count": 19,
   "id": "86192cc3",
   "metadata": {},
   "outputs": [],
   "source": [
    "df_sales=pd.melt(sales, id_vars=['id', 'item_id', 'dept_id', 'cat_id', 'store_id', 'state_id'], var_name='d', value_name='sold')     "
   ]
  },
  {
   "cell_type": "code",
   "execution_count": 20,
   "id": "a6d9cda0",
   "metadata": {},
   "outputs": [
    {
     "data": {
      "text/html": [
       "<div>\n",
       "<style scoped>\n",
       "    .dataframe tbody tr th:only-of-type {\n",
       "        vertical-align: middle;\n",
       "    }\n",
       "\n",
       "    .dataframe tbody tr th {\n",
       "        vertical-align: top;\n",
       "    }\n",
       "\n",
       "    .dataframe thead th {\n",
       "        text-align: right;\n",
       "    }\n",
       "</style>\n",
       "<table border=\"1\" class=\"dataframe\">\n",
       "  <thead>\n",
       "    <tr style=\"text-align: right;\">\n",
       "      <th></th>\n",
       "      <th>id</th>\n",
       "      <th>item_id</th>\n",
       "      <th>dept_id</th>\n",
       "      <th>cat_id</th>\n",
       "      <th>store_id</th>\n",
       "      <th>state_id</th>\n",
       "      <th>d</th>\n",
       "      <th>sold</th>\n",
       "    </tr>\n",
       "  </thead>\n",
       "  <tbody>\n",
       "    <tr>\n",
       "      <th>0</th>\n",
       "      <td>HOBBIES_1_001_CA_1_evaluation</td>\n",
       "      <td>HOBBIES_1_001</td>\n",
       "      <td>HOBBIES_1</td>\n",
       "      <td>HOBBIES</td>\n",
       "      <td>CA_1</td>\n",
       "      <td>CA</td>\n",
       "      <td>d_1</td>\n",
       "      <td>0</td>\n",
       "    </tr>\n",
       "    <tr>\n",
       "      <th>1</th>\n",
       "      <td>HOBBIES_1_002_CA_1_evaluation</td>\n",
       "      <td>HOBBIES_1_002</td>\n",
       "      <td>HOBBIES_1</td>\n",
       "      <td>HOBBIES</td>\n",
       "      <td>CA_1</td>\n",
       "      <td>CA</td>\n",
       "      <td>d_1</td>\n",
       "      <td>0</td>\n",
       "    </tr>\n",
       "    <tr>\n",
       "      <th>2</th>\n",
       "      <td>HOBBIES_1_003_CA_1_evaluation</td>\n",
       "      <td>HOBBIES_1_003</td>\n",
       "      <td>HOBBIES_1</td>\n",
       "      <td>HOBBIES</td>\n",
       "      <td>CA_1</td>\n",
       "      <td>CA</td>\n",
       "      <td>d_1</td>\n",
       "      <td>0</td>\n",
       "    </tr>\n",
       "    <tr>\n",
       "      <th>3</th>\n",
       "      <td>HOBBIES_1_004_CA_1_evaluation</td>\n",
       "      <td>HOBBIES_1_004</td>\n",
       "      <td>HOBBIES_1</td>\n",
       "      <td>HOBBIES</td>\n",
       "      <td>CA_1</td>\n",
       "      <td>CA</td>\n",
       "      <td>d_1</td>\n",
       "      <td>0</td>\n",
       "    </tr>\n",
       "    <tr>\n",
       "      <th>4</th>\n",
       "      <td>HOBBIES_1_005_CA_1_evaluation</td>\n",
       "      <td>HOBBIES_1_005</td>\n",
       "      <td>HOBBIES_1</td>\n",
       "      <td>HOBBIES</td>\n",
       "      <td>CA_1</td>\n",
       "      <td>CA</td>\n",
       "      <td>d_1</td>\n",
       "      <td>0</td>\n",
       "    </tr>\n",
       "    <tr>\n",
       "      <th>...</th>\n",
       "      <td>...</td>\n",
       "      <td>...</td>\n",
       "      <td>...</td>\n",
       "      <td>...</td>\n",
       "      <td>...</td>\n",
       "      <td>...</td>\n",
       "      <td>...</td>\n",
       "      <td>...</td>\n",
       "    </tr>\n",
       "    <tr>\n",
       "      <th>59181085</th>\n",
       "      <td>FOODS_3_823_WI_3_evaluation</td>\n",
       "      <td>FOODS_3_823</td>\n",
       "      <td>FOODS_3</td>\n",
       "      <td>FOODS</td>\n",
       "      <td>WI_3</td>\n",
       "      <td>WI</td>\n",
       "      <td>d_1941</td>\n",
       "      <td>1</td>\n",
       "    </tr>\n",
       "    <tr>\n",
       "      <th>59181086</th>\n",
       "      <td>FOODS_3_824_WI_3_evaluation</td>\n",
       "      <td>FOODS_3_824</td>\n",
       "      <td>FOODS_3</td>\n",
       "      <td>FOODS</td>\n",
       "      <td>WI_3</td>\n",
       "      <td>WI</td>\n",
       "      <td>d_1941</td>\n",
       "      <td>0</td>\n",
       "    </tr>\n",
       "    <tr>\n",
       "      <th>59181087</th>\n",
       "      <td>FOODS_3_825_WI_3_evaluation</td>\n",
       "      <td>FOODS_3_825</td>\n",
       "      <td>FOODS_3</td>\n",
       "      <td>FOODS</td>\n",
       "      <td>WI_3</td>\n",
       "      <td>WI</td>\n",
       "      <td>d_1941</td>\n",
       "      <td>2</td>\n",
       "    </tr>\n",
       "    <tr>\n",
       "      <th>59181088</th>\n",
       "      <td>FOODS_3_826_WI_3_evaluation</td>\n",
       "      <td>FOODS_3_826</td>\n",
       "      <td>FOODS_3</td>\n",
       "      <td>FOODS</td>\n",
       "      <td>WI_3</td>\n",
       "      <td>WI</td>\n",
       "      <td>d_1941</td>\n",
       "      <td>0</td>\n",
       "    </tr>\n",
       "    <tr>\n",
       "      <th>59181089</th>\n",
       "      <td>FOODS_3_827_WI_3_evaluation</td>\n",
       "      <td>FOODS_3_827</td>\n",
       "      <td>FOODS_3</td>\n",
       "      <td>FOODS</td>\n",
       "      <td>WI_3</td>\n",
       "      <td>WI</td>\n",
       "      <td>d_1941</td>\n",
       "      <td>1</td>\n",
       "    </tr>\n",
       "  </tbody>\n",
       "</table>\n",
       "<p>59181090 rows × 8 columns</p>\n",
       "</div>"
      ],
      "text/plain": [
       "                                     id        item_id    dept_id   cat_id  \\\n",
       "0         HOBBIES_1_001_CA_1_evaluation  HOBBIES_1_001  HOBBIES_1  HOBBIES   \n",
       "1         HOBBIES_1_002_CA_1_evaluation  HOBBIES_1_002  HOBBIES_1  HOBBIES   \n",
       "2         HOBBIES_1_003_CA_1_evaluation  HOBBIES_1_003  HOBBIES_1  HOBBIES   \n",
       "3         HOBBIES_1_004_CA_1_evaluation  HOBBIES_1_004  HOBBIES_1  HOBBIES   \n",
       "4         HOBBIES_1_005_CA_1_evaluation  HOBBIES_1_005  HOBBIES_1  HOBBIES   \n",
       "...                                 ...            ...        ...      ...   \n",
       "59181085    FOODS_3_823_WI_3_evaluation    FOODS_3_823    FOODS_3    FOODS   \n",
       "59181086    FOODS_3_824_WI_3_evaluation    FOODS_3_824    FOODS_3    FOODS   \n",
       "59181087    FOODS_3_825_WI_3_evaluation    FOODS_3_825    FOODS_3    FOODS   \n",
       "59181088    FOODS_3_826_WI_3_evaluation    FOODS_3_826    FOODS_3    FOODS   \n",
       "59181089    FOODS_3_827_WI_3_evaluation    FOODS_3_827    FOODS_3    FOODS   \n",
       "\n",
       "         store_id state_id       d  sold  \n",
       "0            CA_1       CA     d_1     0  \n",
       "1            CA_1       CA     d_1     0  \n",
       "2            CA_1       CA     d_1     0  \n",
       "3            CA_1       CA     d_1     0  \n",
       "4            CA_1       CA     d_1     0  \n",
       "...           ...      ...     ...   ...  \n",
       "59181085     WI_3       WI  d_1941     1  \n",
       "59181086     WI_3       WI  d_1941     0  \n",
       "59181087     WI_3       WI  d_1941     2  \n",
       "59181088     WI_3       WI  d_1941     0  \n",
       "59181089     WI_3       WI  d_1941     1  \n",
       "\n",
       "[59181090 rows x 8 columns]"
      ]
     },
     "execution_count": 20,
     "metadata": {},
     "output_type": "execute_result"
    }
   ],
   "source": [
    "df_sales"
   ]
  },
  {
   "cell_type": "code",
   "execution_count": 21,
   "id": "e95184b6",
   "metadata": {},
   "outputs": [],
   "source": [
    "df_final= pd.merge(df_sales, calendar, on='d', how='left')"
   ]
  },
  {
   "cell_type": "code",
   "execution_count": 22,
   "id": "3d246f40",
   "metadata": {},
   "outputs": [],
   "source": [
    "df_final= pd.merge(df_final, prices, on=['store_id','item_id','wm_yr_wk'], how='left') "
   ]
  },
  {
   "cell_type": "markdown",
   "id": "8ee24acc",
   "metadata": {},
   "source": [
    "## 1. Introducing Lag features\n",
    "Our data lacks periodicity in terms of month/ year, but there is periodicity in weeks, jence we will introduce lags on weekly basis\n",
    "lag 1:means how many products have been sold one day before.\n",
    "lag 7:means how many products have been sold seven day before."
   ]
  },
  {
   "cell_type": "code",
   "execution_count": 23,
   "id": "0209774b",
   "metadata": {},
   "outputs": [
    {
     "name": "stderr",
     "output_type": "stream",
     "text": [
      "100%|██████████| 11/11 [00:12<00:00,  1.16s/it]\n"
     ]
    }
   ],
   "source": [
    "import tqdm\n",
    "lags=[1,7,14,21,28,35,42,49,56,63,70]\n",
    "for i in tqdm.tqdm(lags):\n",
    "    df_final['lag_'+str(i)]=df_final.groupby(['id'])['sold'].shift(i)"
   ]
  },
  {
   "cell_type": "code",
   "execution_count": 24,
   "id": "0439c733",
   "metadata": {},
   "outputs": [
    {
     "data": {
      "text/html": [
       "<div>\n",
       "<style scoped>\n",
       "    .dataframe tbody tr th:only-of-type {\n",
       "        vertical-align: middle;\n",
       "    }\n",
       "\n",
       "    .dataframe tbody tr th {\n",
       "        vertical-align: top;\n",
       "    }\n",
       "\n",
       "    .dataframe thead th {\n",
       "        text-align: right;\n",
       "    }\n",
       "</style>\n",
       "<table border=\"1\" class=\"dataframe\">\n",
       "  <thead>\n",
       "    <tr style=\"text-align: right;\">\n",
       "      <th></th>\n",
       "      <th>id</th>\n",
       "      <th>item_id</th>\n",
       "      <th>dept_id</th>\n",
       "      <th>cat_id</th>\n",
       "      <th>store_id</th>\n",
       "      <th>state_id</th>\n",
       "      <th>d</th>\n",
       "      <th>sold</th>\n",
       "      <th>date</th>\n",
       "      <th>wm_yr_wk</th>\n",
       "      <th>...</th>\n",
       "      <th>lag_7</th>\n",
       "      <th>lag_14</th>\n",
       "      <th>lag_21</th>\n",
       "      <th>lag_28</th>\n",
       "      <th>lag_35</th>\n",
       "      <th>lag_42</th>\n",
       "      <th>lag_49</th>\n",
       "      <th>lag_56</th>\n",
       "      <th>lag_63</th>\n",
       "      <th>lag_70</th>\n",
       "    </tr>\n",
       "  </thead>\n",
       "  <tbody>\n",
       "    <tr>\n",
       "      <th>0</th>\n",
       "      <td>HOBBIES_1_001_CA_1_evaluation</td>\n",
       "      <td>HOBBIES_1_001</td>\n",
       "      <td>HOBBIES_1</td>\n",
       "      <td>HOBBIES</td>\n",
       "      <td>CA_1</td>\n",
       "      <td>CA</td>\n",
       "      <td>d_1</td>\n",
       "      <td>0</td>\n",
       "      <td>2011-01-29</td>\n",
       "      <td>11101</td>\n",
       "      <td>...</td>\n",
       "      <td>NaN</td>\n",
       "      <td>NaN</td>\n",
       "      <td>NaN</td>\n",
       "      <td>NaN</td>\n",
       "      <td>NaN</td>\n",
       "      <td>NaN</td>\n",
       "      <td>NaN</td>\n",
       "      <td>NaN</td>\n",
       "      <td>NaN</td>\n",
       "      <td>NaN</td>\n",
       "    </tr>\n",
       "    <tr>\n",
       "      <th>1</th>\n",
       "      <td>HOBBIES_1_002_CA_1_evaluation</td>\n",
       "      <td>HOBBIES_1_002</td>\n",
       "      <td>HOBBIES_1</td>\n",
       "      <td>HOBBIES</td>\n",
       "      <td>CA_1</td>\n",
       "      <td>CA</td>\n",
       "      <td>d_1</td>\n",
       "      <td>0</td>\n",
       "      <td>2011-01-29</td>\n",
       "      <td>11101</td>\n",
       "      <td>...</td>\n",
       "      <td>NaN</td>\n",
       "      <td>NaN</td>\n",
       "      <td>NaN</td>\n",
       "      <td>NaN</td>\n",
       "      <td>NaN</td>\n",
       "      <td>NaN</td>\n",
       "      <td>NaN</td>\n",
       "      <td>NaN</td>\n",
       "      <td>NaN</td>\n",
       "      <td>NaN</td>\n",
       "    </tr>\n",
       "    <tr>\n",
       "      <th>2</th>\n",
       "      <td>HOBBIES_1_003_CA_1_evaluation</td>\n",
       "      <td>HOBBIES_1_003</td>\n",
       "      <td>HOBBIES_1</td>\n",
       "      <td>HOBBIES</td>\n",
       "      <td>CA_1</td>\n",
       "      <td>CA</td>\n",
       "      <td>d_1</td>\n",
       "      <td>0</td>\n",
       "      <td>2011-01-29</td>\n",
       "      <td>11101</td>\n",
       "      <td>...</td>\n",
       "      <td>NaN</td>\n",
       "      <td>NaN</td>\n",
       "      <td>NaN</td>\n",
       "      <td>NaN</td>\n",
       "      <td>NaN</td>\n",
       "      <td>NaN</td>\n",
       "      <td>NaN</td>\n",
       "      <td>NaN</td>\n",
       "      <td>NaN</td>\n",
       "      <td>NaN</td>\n",
       "    </tr>\n",
       "    <tr>\n",
       "      <th>3</th>\n",
       "      <td>HOBBIES_1_004_CA_1_evaluation</td>\n",
       "      <td>HOBBIES_1_004</td>\n",
       "      <td>HOBBIES_1</td>\n",
       "      <td>HOBBIES</td>\n",
       "      <td>CA_1</td>\n",
       "      <td>CA</td>\n",
       "      <td>d_1</td>\n",
       "      <td>0</td>\n",
       "      <td>2011-01-29</td>\n",
       "      <td>11101</td>\n",
       "      <td>...</td>\n",
       "      <td>NaN</td>\n",
       "      <td>NaN</td>\n",
       "      <td>NaN</td>\n",
       "      <td>NaN</td>\n",
       "      <td>NaN</td>\n",
       "      <td>NaN</td>\n",
       "      <td>NaN</td>\n",
       "      <td>NaN</td>\n",
       "      <td>NaN</td>\n",
       "      <td>NaN</td>\n",
       "    </tr>\n",
       "    <tr>\n",
       "      <th>4</th>\n",
       "      <td>HOBBIES_1_005_CA_1_evaluation</td>\n",
       "      <td>HOBBIES_1_005</td>\n",
       "      <td>HOBBIES_1</td>\n",
       "      <td>HOBBIES</td>\n",
       "      <td>CA_1</td>\n",
       "      <td>CA</td>\n",
       "      <td>d_1</td>\n",
       "      <td>0</td>\n",
       "      <td>2011-01-29</td>\n",
       "      <td>11101</td>\n",
       "      <td>...</td>\n",
       "      <td>NaN</td>\n",
       "      <td>NaN</td>\n",
       "      <td>NaN</td>\n",
       "      <td>NaN</td>\n",
       "      <td>NaN</td>\n",
       "      <td>NaN</td>\n",
       "      <td>NaN</td>\n",
       "      <td>NaN</td>\n",
       "      <td>NaN</td>\n",
       "      <td>NaN</td>\n",
       "    </tr>\n",
       "  </tbody>\n",
       "</table>\n",
       "<p>5 rows × 36 columns</p>\n",
       "</div>"
      ],
      "text/plain": [
       "                              id        item_id    dept_id   cat_id store_id  \\\n",
       "0  HOBBIES_1_001_CA_1_evaluation  HOBBIES_1_001  HOBBIES_1  HOBBIES     CA_1   \n",
       "1  HOBBIES_1_002_CA_1_evaluation  HOBBIES_1_002  HOBBIES_1  HOBBIES     CA_1   \n",
       "2  HOBBIES_1_003_CA_1_evaluation  HOBBIES_1_003  HOBBIES_1  HOBBIES     CA_1   \n",
       "3  HOBBIES_1_004_CA_1_evaluation  HOBBIES_1_004  HOBBIES_1  HOBBIES     CA_1   \n",
       "4  HOBBIES_1_005_CA_1_evaluation  HOBBIES_1_005  HOBBIES_1  HOBBIES     CA_1   \n",
       "\n",
       "  state_id    d  sold       date  wm_yr_wk  ... lag_7  lag_14  lag_21  lag_28  \\\n",
       "0       CA  d_1     0 2011-01-29     11101  ...   NaN     NaN     NaN     NaN   \n",
       "1       CA  d_1     0 2011-01-29     11101  ...   NaN     NaN     NaN     NaN   \n",
       "2       CA  d_1     0 2011-01-29     11101  ...   NaN     NaN     NaN     NaN   \n",
       "3       CA  d_1     0 2011-01-29     11101  ...   NaN     NaN     NaN     NaN   \n",
       "4       CA  d_1     0 2011-01-29     11101  ...   NaN     NaN     NaN     NaN   \n",
       "\n",
       "  lag_35 lag_42 lag_49 lag_56  lag_63  lag_70  \n",
       "0    NaN    NaN    NaN    NaN     NaN     NaN  \n",
       "1    NaN    NaN    NaN    NaN     NaN     NaN  \n",
       "2    NaN    NaN    NaN    NaN     NaN     NaN  \n",
       "3    NaN    NaN    NaN    NaN     NaN     NaN  \n",
       "4    NaN    NaN    NaN    NaN     NaN     NaN  \n",
       "\n",
       "[5 rows x 36 columns]"
      ]
     },
     "execution_count": 24,
     "metadata": {},
     "output_type": "execute_result"
    }
   ],
   "source": [
    "df_final.head(5)"
   ]
  },
  {
   "cell_type": "code",
   "execution_count": 25,
   "id": "cf6b0811",
   "metadata": {},
   "outputs": [],
   "source": [
    "# import pickle\n",
    "# with open(r'a_before_rolling.pkl','wb') as f:\n",
    "#     pickle.dump(df_final, f)"
   ]
  },
  {
   "cell_type": "code",
   "execution_count": 26,
   "id": "0dc47062",
   "metadata": {},
   "outputs": [],
   "source": [
    "# import shutil\n",
    "# original=r'C:\\Users\\Owner\\Documents\\Model 1\\m5-forecasting-accuracy\\a_before_rolling.pkl'\n",
    "#target=r'C:\\Users\\Owner\\Documents\\Model 1\\m5-forecasting-accuracy\\a_before_rolling.pkl'\n",
    "#shutil.copyfile(original, target)"
   ]
  },
  {
   "cell_type": "markdown",
   "id": "67f25967",
   "metadata": {},
   "source": [
    "## 2. Rolling Window\n",
    "This is another technique to capture perriodicity.\n",
    "in this technique we are going to apply some statistical techniques on window.here window mean last some days\n",
    "example if i say window=7 and statistical techniques=mean, then we are going to take last 7 day and apply mean on them the result will be your feature. we can apply median , min max .. any thing."
   ]
  },
  {
   "cell_type": "code",
   "execution_count": 27,
   "id": "8a6dffe6",
   "metadata": {},
   "outputs": [
    {
     "name": "stderr",
     "output_type": "stream",
     "text": [
      "100%|██████████| 5/5 [02:14<00:00, 26.97s/it]\n"
     ]
    }
   ],
   "source": [
    "window=[7,14,28,35,42]\n",
    "for i in tqdm.tqdm(window):\n",
    "    df_final['rolling_mean_'+str(i)]=df_final.groupby(['id'])['sold'].transform(lambda s: s.rolling(i).mean())"
   ]
  },
  {
   "cell_type": "code",
   "execution_count": 28,
   "id": "91ef7597",
   "metadata": {},
   "outputs": [
    {
     "data": {
      "text/plain": [
       "Index(['id', 'item_id', 'dept_id', 'cat_id', 'store_id', 'state_id', 'd',\n",
       "       'sold', 'date', 'wm_yr_wk', 'weekday', 'wday', 'month', 'year',\n",
       "       'event_name_1', 'event_type_1', 'event_name_2', 'event_type_2',\n",
       "       'snap_CA', 'snap_TX', 'snap_WI', 'is_high_sale_months',\n",
       "       'is_high_sale_day', 'is_christmas', 'sell_price', 'lag_1', 'lag_7',\n",
       "       'lag_14', 'lag_21', 'lag_28', 'lag_35', 'lag_42', 'lag_49', 'lag_56',\n",
       "       'lag_63', 'lag_70', 'rolling_mean_7', 'rolling_mean_14',\n",
       "       'rolling_mean_28', 'rolling_mean_35', 'rolling_mean_42'],\n",
       "      dtype='object')"
      ]
     },
     "execution_count": 28,
     "metadata": {},
     "output_type": "execute_result"
    }
   ],
   "source": [
    "df_final.columns"
   ]
  },
  {
   "cell_type": "code",
   "execution_count": 29,
   "id": "73c07627",
   "metadata": {},
   "outputs": [],
   "source": [
    "window=['rolling_mean_7','rolling_mean_14', 'rolling_mean_7' ,'rolling_mean_28', 'rolling_mean_35','rolling_mean_42']\n",
    "for i in window:\n",
    "    df_final[i]=df_final[i].fillna(0)"
   ]
  },
  {
   "cell_type": "code",
   "execution_count": 30,
   "id": "f5a511c9",
   "metadata": {},
   "outputs": [],
   "source": [
    "df_final=reduce(df_final)"
   ]
  },
  {
   "cell_type": "markdown",
   "id": "023a9e63",
   "metadata": {},
   "source": [
    "## 3. Expanding Mean\n",
    "Expanding window is same as rolling window only difference is that here window size is not constant its dynamic."
   ]
  },
  {
   "cell_type": "code",
   "execution_count": 31,
   "id": "bfa9dd9c",
   "metadata": {},
   "outputs": [],
   "source": [
    "# with open(r'd_before_rolling.pkl','wb') as f:\n",
    "#     pickle.dump(df_final, f)"
   ]
  },
  {
   "cell_type": "code",
   "execution_count": 32,
   "id": "ffddcc5d",
   "metadata": {},
   "outputs": [],
   "source": [
    "df_final['expanding_mean']=df_final.groupby(['id'])['sold'].transform(lambda s: s.expanding().mean())"
   ]
  },
  {
   "cell_type": "code",
   "execution_count": 33,
   "id": "3f66fa42",
   "metadata": {},
   "outputs": [],
   "source": [
    "df_final['expanding_mean']=df_final['expanding_mean'].fillna(0)"
   ]
  },
  {
   "cell_type": "code",
   "execution_count": 34,
   "id": "92ed81fb",
   "metadata": {},
   "outputs": [],
   "source": [
    "df_final=reduce(df_final)"
   ]
  },
  {
   "cell_type": "code",
   "execution_count": 35,
   "id": "9c773a4a",
   "metadata": {},
   "outputs": [
    {
     "data": {
      "text/html": [
       "<div>\n",
       "<style scoped>\n",
       "    .dataframe tbody tr th:only-of-type {\n",
       "        vertical-align: middle;\n",
       "    }\n",
       "\n",
       "    .dataframe tbody tr th {\n",
       "        vertical-align: top;\n",
       "    }\n",
       "\n",
       "    .dataframe thead th {\n",
       "        text-align: right;\n",
       "    }\n",
       "</style>\n",
       "<table border=\"1\" class=\"dataframe\">\n",
       "  <thead>\n",
       "    <tr style=\"text-align: right;\">\n",
       "      <th></th>\n",
       "      <th>id</th>\n",
       "      <th>item_id</th>\n",
       "      <th>dept_id</th>\n",
       "      <th>cat_id</th>\n",
       "      <th>store_id</th>\n",
       "      <th>state_id</th>\n",
       "      <th>d</th>\n",
       "      <th>sold</th>\n",
       "      <th>date</th>\n",
       "      <th>wm_yr_wk</th>\n",
       "      <th>...</th>\n",
       "      <th>lag_49</th>\n",
       "      <th>lag_56</th>\n",
       "      <th>lag_63</th>\n",
       "      <th>lag_70</th>\n",
       "      <th>rolling_mean_7</th>\n",
       "      <th>rolling_mean_14</th>\n",
       "      <th>rolling_mean_28</th>\n",
       "      <th>rolling_mean_35</th>\n",
       "      <th>rolling_mean_42</th>\n",
       "      <th>expanding_mean</th>\n",
       "    </tr>\n",
       "  </thead>\n",
       "  <tbody>\n",
       "    <tr>\n",
       "      <th>0</th>\n",
       "      <td>HOBBIES_1_001_CA_1_evaluation</td>\n",
       "      <td>HOBBIES_1_001</td>\n",
       "      <td>HOBBIES_1</td>\n",
       "      <td>HOBBIES</td>\n",
       "      <td>CA_1</td>\n",
       "      <td>CA</td>\n",
       "      <td>d_1</td>\n",
       "      <td>0</td>\n",
       "      <td>2011-01-29</td>\n",
       "      <td>11101</td>\n",
       "      <td>...</td>\n",
       "      <td>NaN</td>\n",
       "      <td>NaN</td>\n",
       "      <td>NaN</td>\n",
       "      <td>NaN</td>\n",
       "      <td>0.0</td>\n",
       "      <td>0.0</td>\n",
       "      <td>0.0</td>\n",
       "      <td>0.0</td>\n",
       "      <td>0.0</td>\n",
       "      <td>0.0</td>\n",
       "    </tr>\n",
       "    <tr>\n",
       "      <th>1</th>\n",
       "      <td>HOBBIES_1_002_CA_1_evaluation</td>\n",
       "      <td>HOBBIES_1_002</td>\n",
       "      <td>HOBBIES_1</td>\n",
       "      <td>HOBBIES</td>\n",
       "      <td>CA_1</td>\n",
       "      <td>CA</td>\n",
       "      <td>d_1</td>\n",
       "      <td>0</td>\n",
       "      <td>2011-01-29</td>\n",
       "      <td>11101</td>\n",
       "      <td>...</td>\n",
       "      <td>NaN</td>\n",
       "      <td>NaN</td>\n",
       "      <td>NaN</td>\n",
       "      <td>NaN</td>\n",
       "      <td>0.0</td>\n",
       "      <td>0.0</td>\n",
       "      <td>0.0</td>\n",
       "      <td>0.0</td>\n",
       "      <td>0.0</td>\n",
       "      <td>0.0</td>\n",
       "    </tr>\n",
       "    <tr>\n",
       "      <th>2</th>\n",
       "      <td>HOBBIES_1_003_CA_1_evaluation</td>\n",
       "      <td>HOBBIES_1_003</td>\n",
       "      <td>HOBBIES_1</td>\n",
       "      <td>HOBBIES</td>\n",
       "      <td>CA_1</td>\n",
       "      <td>CA</td>\n",
       "      <td>d_1</td>\n",
       "      <td>0</td>\n",
       "      <td>2011-01-29</td>\n",
       "      <td>11101</td>\n",
       "      <td>...</td>\n",
       "      <td>NaN</td>\n",
       "      <td>NaN</td>\n",
       "      <td>NaN</td>\n",
       "      <td>NaN</td>\n",
       "      <td>0.0</td>\n",
       "      <td>0.0</td>\n",
       "      <td>0.0</td>\n",
       "      <td>0.0</td>\n",
       "      <td>0.0</td>\n",
       "      <td>0.0</td>\n",
       "    </tr>\n",
       "    <tr>\n",
       "      <th>3</th>\n",
       "      <td>HOBBIES_1_004_CA_1_evaluation</td>\n",
       "      <td>HOBBIES_1_004</td>\n",
       "      <td>HOBBIES_1</td>\n",
       "      <td>HOBBIES</td>\n",
       "      <td>CA_1</td>\n",
       "      <td>CA</td>\n",
       "      <td>d_1</td>\n",
       "      <td>0</td>\n",
       "      <td>2011-01-29</td>\n",
       "      <td>11101</td>\n",
       "      <td>...</td>\n",
       "      <td>NaN</td>\n",
       "      <td>NaN</td>\n",
       "      <td>NaN</td>\n",
       "      <td>NaN</td>\n",
       "      <td>0.0</td>\n",
       "      <td>0.0</td>\n",
       "      <td>0.0</td>\n",
       "      <td>0.0</td>\n",
       "      <td>0.0</td>\n",
       "      <td>0.0</td>\n",
       "    </tr>\n",
       "    <tr>\n",
       "      <th>4</th>\n",
       "      <td>HOBBIES_1_005_CA_1_evaluation</td>\n",
       "      <td>HOBBIES_1_005</td>\n",
       "      <td>HOBBIES_1</td>\n",
       "      <td>HOBBIES</td>\n",
       "      <td>CA_1</td>\n",
       "      <td>CA</td>\n",
       "      <td>d_1</td>\n",
       "      <td>0</td>\n",
       "      <td>2011-01-29</td>\n",
       "      <td>11101</td>\n",
       "      <td>...</td>\n",
       "      <td>NaN</td>\n",
       "      <td>NaN</td>\n",
       "      <td>NaN</td>\n",
       "      <td>NaN</td>\n",
       "      <td>0.0</td>\n",
       "      <td>0.0</td>\n",
       "      <td>0.0</td>\n",
       "      <td>0.0</td>\n",
       "      <td>0.0</td>\n",
       "      <td>0.0</td>\n",
       "    </tr>\n",
       "  </tbody>\n",
       "</table>\n",
       "<p>5 rows × 42 columns</p>\n",
       "</div>"
      ],
      "text/plain": [
       "                              id        item_id    dept_id   cat_id store_id  \\\n",
       "0  HOBBIES_1_001_CA_1_evaluation  HOBBIES_1_001  HOBBIES_1  HOBBIES     CA_1   \n",
       "1  HOBBIES_1_002_CA_1_evaluation  HOBBIES_1_002  HOBBIES_1  HOBBIES     CA_1   \n",
       "2  HOBBIES_1_003_CA_1_evaluation  HOBBIES_1_003  HOBBIES_1  HOBBIES     CA_1   \n",
       "3  HOBBIES_1_004_CA_1_evaluation  HOBBIES_1_004  HOBBIES_1  HOBBIES     CA_1   \n",
       "4  HOBBIES_1_005_CA_1_evaluation  HOBBIES_1_005  HOBBIES_1  HOBBIES     CA_1   \n",
       "\n",
       "  state_id    d  sold       date  wm_yr_wk  ... lag_49  lag_56  lag_63  \\\n",
       "0       CA  d_1     0 2011-01-29     11101  ...    NaN     NaN     NaN   \n",
       "1       CA  d_1     0 2011-01-29     11101  ...    NaN     NaN     NaN   \n",
       "2       CA  d_1     0 2011-01-29     11101  ...    NaN     NaN     NaN   \n",
       "3       CA  d_1     0 2011-01-29     11101  ...    NaN     NaN     NaN   \n",
       "4       CA  d_1     0 2011-01-29     11101  ...    NaN     NaN     NaN   \n",
       "\n",
       "   lag_70 rolling_mean_7 rolling_mean_14 rolling_mean_28 rolling_mean_35  \\\n",
       "0     NaN            0.0             0.0             0.0             0.0   \n",
       "1     NaN            0.0             0.0             0.0             0.0   \n",
       "2     NaN            0.0             0.0             0.0             0.0   \n",
       "3     NaN            0.0             0.0             0.0             0.0   \n",
       "4     NaN            0.0             0.0             0.0             0.0   \n",
       "\n",
       "   rolling_mean_42  expanding_mean  \n",
       "0              0.0             0.0  \n",
       "1              0.0             0.0  \n",
       "2              0.0             0.0  \n",
       "3              0.0             0.0  \n",
       "4              0.0             0.0  \n",
       "\n",
       "[5 rows x 42 columns]"
      ]
     },
     "execution_count": 35,
     "metadata": {},
     "output_type": "execute_result"
    }
   ],
   "source": [
    "df_final.head()"
   ]
  },
  {
   "cell_type": "markdown",
   "id": "dde65b66",
   "metadata": {},
   "source": [
    "## 4. Label Encoding"
   ]
  },
  {
   "cell_type": "code",
   "execution_count": 36,
   "id": "c90c1c96",
   "metadata": {},
   "outputs": [
    {
     "name": "stderr",
     "output_type": "stream",
     "text": [
      "100%|██████████| 10/10 [01:34<00:00,  9.49s/it]\n"
     ]
    }
   ],
   "source": [
    "from sklearn.preprocessing import LabelEncoder\n",
    "labelencoder=LabelEncoder() \n",
    "category=['event_name_1','event_type_1','event_name_2','event_type_2','id','item_id','dept_id','cat_id','store_id','state_id']\n",
    "for i in tqdm.tqdm(category):\n",
    "    df_final[i+'_']=labelencoder.fit_transform(df_final[i])"
   ]
  },
  {
   "cell_type": "code",
   "execution_count": 41,
   "id": "7f28852e",
   "metadata": {},
   "outputs": [],
   "source": [
    "## Dropping the columns that have been encoded\n",
    "df_final=df_final.drop(['event_name_1','event_type_1','event_name_2','event_type_2','id','item_id','dept_id','cat_id','store_id','state_id'],axis = 1)"
   ]
  },
  {
   "cell_type": "code",
   "execution_count": 37,
   "id": "9da9cb3f",
   "metadata": {},
   "outputs": [],
   "source": [
    "df_final=reduce(df_final)"
   ]
  },
  {
   "cell_type": "code",
   "execution_count": 42,
   "id": "a5c0016c",
   "metadata": {},
   "outputs": [
    {
     "data": {
      "text/html": [
       "<div>\n",
       "<style scoped>\n",
       "    .dataframe tbody tr th:only-of-type {\n",
       "        vertical-align: middle;\n",
       "    }\n",
       "\n",
       "    .dataframe tbody tr th {\n",
       "        vertical-align: top;\n",
       "    }\n",
       "\n",
       "    .dataframe thead th {\n",
       "        text-align: right;\n",
       "    }\n",
       "</style>\n",
       "<table border=\"1\" class=\"dataframe\">\n",
       "  <thead>\n",
       "    <tr style=\"text-align: right;\">\n",
       "      <th></th>\n",
       "      <th>d</th>\n",
       "      <th>sold</th>\n",
       "      <th>date</th>\n",
       "      <th>wm_yr_wk</th>\n",
       "      <th>weekday</th>\n",
       "      <th>wday</th>\n",
       "      <th>month</th>\n",
       "      <th>year</th>\n",
       "      <th>snap_CA</th>\n",
       "      <th>snap_TX</th>\n",
       "      <th>...</th>\n",
       "      <th>event_name_1_</th>\n",
       "      <th>event_type_1_</th>\n",
       "      <th>event_name_2_</th>\n",
       "      <th>event_type_2_</th>\n",
       "      <th>id_</th>\n",
       "      <th>item_id_</th>\n",
       "      <th>dept_id_</th>\n",
       "      <th>cat_id_</th>\n",
       "      <th>store_id_</th>\n",
       "      <th>state_id_</th>\n",
       "    </tr>\n",
       "  </thead>\n",
       "  <tbody>\n",
       "    <tr>\n",
       "      <th>0</th>\n",
       "      <td>d_1</td>\n",
       "      <td>0</td>\n",
       "      <td>2011-01-29</td>\n",
       "      <td>11101</td>\n",
       "      <td>Saturday</td>\n",
       "      <td>1</td>\n",
       "      <td>1</td>\n",
       "      <td>2011</td>\n",
       "      <td>0</td>\n",
       "      <td>0</td>\n",
       "      <td>...</td>\n",
       "      <td>19</td>\n",
       "      <td>2</td>\n",
       "      <td>3</td>\n",
       "      <td>1</td>\n",
       "      <td>14370</td>\n",
       "      <td>1437</td>\n",
       "      <td>3</td>\n",
       "      <td>1</td>\n",
       "      <td>0</td>\n",
       "      <td>0</td>\n",
       "    </tr>\n",
       "    <tr>\n",
       "      <th>1</th>\n",
       "      <td>d_1</td>\n",
       "      <td>0</td>\n",
       "      <td>2011-01-29</td>\n",
       "      <td>11101</td>\n",
       "      <td>Saturday</td>\n",
       "      <td>1</td>\n",
       "      <td>1</td>\n",
       "      <td>2011</td>\n",
       "      <td>0</td>\n",
       "      <td>0</td>\n",
       "      <td>...</td>\n",
       "      <td>19</td>\n",
       "      <td>2</td>\n",
       "      <td>3</td>\n",
       "      <td>1</td>\n",
       "      <td>14380</td>\n",
       "      <td>1438</td>\n",
       "      <td>3</td>\n",
       "      <td>1</td>\n",
       "      <td>0</td>\n",
       "      <td>0</td>\n",
       "    </tr>\n",
       "    <tr>\n",
       "      <th>2</th>\n",
       "      <td>d_1</td>\n",
       "      <td>0</td>\n",
       "      <td>2011-01-29</td>\n",
       "      <td>11101</td>\n",
       "      <td>Saturday</td>\n",
       "      <td>1</td>\n",
       "      <td>1</td>\n",
       "      <td>2011</td>\n",
       "      <td>0</td>\n",
       "      <td>0</td>\n",
       "      <td>...</td>\n",
       "      <td>19</td>\n",
       "      <td>2</td>\n",
       "      <td>3</td>\n",
       "      <td>1</td>\n",
       "      <td>14390</td>\n",
       "      <td>1439</td>\n",
       "      <td>3</td>\n",
       "      <td>1</td>\n",
       "      <td>0</td>\n",
       "      <td>0</td>\n",
       "    </tr>\n",
       "    <tr>\n",
       "      <th>3</th>\n",
       "      <td>d_1</td>\n",
       "      <td>0</td>\n",
       "      <td>2011-01-29</td>\n",
       "      <td>11101</td>\n",
       "      <td>Saturday</td>\n",
       "      <td>1</td>\n",
       "      <td>1</td>\n",
       "      <td>2011</td>\n",
       "      <td>0</td>\n",
       "      <td>0</td>\n",
       "      <td>...</td>\n",
       "      <td>19</td>\n",
       "      <td>2</td>\n",
       "      <td>3</td>\n",
       "      <td>1</td>\n",
       "      <td>14400</td>\n",
       "      <td>1440</td>\n",
       "      <td>3</td>\n",
       "      <td>1</td>\n",
       "      <td>0</td>\n",
       "      <td>0</td>\n",
       "    </tr>\n",
       "    <tr>\n",
       "      <th>4</th>\n",
       "      <td>d_1</td>\n",
       "      <td>0</td>\n",
       "      <td>2011-01-29</td>\n",
       "      <td>11101</td>\n",
       "      <td>Saturday</td>\n",
       "      <td>1</td>\n",
       "      <td>1</td>\n",
       "      <td>2011</td>\n",
       "      <td>0</td>\n",
       "      <td>0</td>\n",
       "      <td>...</td>\n",
       "      <td>19</td>\n",
       "      <td>2</td>\n",
       "      <td>3</td>\n",
       "      <td>1</td>\n",
       "      <td>14410</td>\n",
       "      <td>1441</td>\n",
       "      <td>3</td>\n",
       "      <td>1</td>\n",
       "      <td>0</td>\n",
       "      <td>0</td>\n",
       "    </tr>\n",
       "    <tr>\n",
       "      <th>...</th>\n",
       "      <td>...</td>\n",
       "      <td>...</td>\n",
       "      <td>...</td>\n",
       "      <td>...</td>\n",
       "      <td>...</td>\n",
       "      <td>...</td>\n",
       "      <td>...</td>\n",
       "      <td>...</td>\n",
       "      <td>...</td>\n",
       "      <td>...</td>\n",
       "      <td>...</td>\n",
       "      <td>...</td>\n",
       "      <td>...</td>\n",
       "      <td>...</td>\n",
       "      <td>...</td>\n",
       "      <td>...</td>\n",
       "      <td>...</td>\n",
       "      <td>...</td>\n",
       "      <td>...</td>\n",
       "      <td>...</td>\n",
       "      <td>...</td>\n",
       "    </tr>\n",
       "    <tr>\n",
       "      <th>59181085</th>\n",
       "      <td>d_1941</td>\n",
       "      <td>1</td>\n",
       "      <td>2016-05-22</td>\n",
       "      <td>11617</td>\n",
       "      <td>Sunday</td>\n",
       "      <td>2</td>\n",
       "      <td>5</td>\n",
       "      <td>2016</td>\n",
       "      <td>0</td>\n",
       "      <td>0</td>\n",
       "      <td>...</td>\n",
       "      <td>19</td>\n",
       "      <td>2</td>\n",
       "      <td>3</td>\n",
       "      <td>1</td>\n",
       "      <td>14329</td>\n",
       "      <td>1432</td>\n",
       "      <td>2</td>\n",
       "      <td>0</td>\n",
       "      <td>9</td>\n",
       "      <td>2</td>\n",
       "    </tr>\n",
       "    <tr>\n",
       "      <th>59181086</th>\n",
       "      <td>d_1941</td>\n",
       "      <td>0</td>\n",
       "      <td>2016-05-22</td>\n",
       "      <td>11617</td>\n",
       "      <td>Sunday</td>\n",
       "      <td>2</td>\n",
       "      <td>5</td>\n",
       "      <td>2016</td>\n",
       "      <td>0</td>\n",
       "      <td>0</td>\n",
       "      <td>...</td>\n",
       "      <td>19</td>\n",
       "      <td>2</td>\n",
       "      <td>3</td>\n",
       "      <td>1</td>\n",
       "      <td>14339</td>\n",
       "      <td>1433</td>\n",
       "      <td>2</td>\n",
       "      <td>0</td>\n",
       "      <td>9</td>\n",
       "      <td>2</td>\n",
       "    </tr>\n",
       "    <tr>\n",
       "      <th>59181087</th>\n",
       "      <td>d_1941</td>\n",
       "      <td>2</td>\n",
       "      <td>2016-05-22</td>\n",
       "      <td>11617</td>\n",
       "      <td>Sunday</td>\n",
       "      <td>2</td>\n",
       "      <td>5</td>\n",
       "      <td>2016</td>\n",
       "      <td>0</td>\n",
       "      <td>0</td>\n",
       "      <td>...</td>\n",
       "      <td>19</td>\n",
       "      <td>2</td>\n",
       "      <td>3</td>\n",
       "      <td>1</td>\n",
       "      <td>14349</td>\n",
       "      <td>1434</td>\n",
       "      <td>2</td>\n",
       "      <td>0</td>\n",
       "      <td>9</td>\n",
       "      <td>2</td>\n",
       "    </tr>\n",
       "    <tr>\n",
       "      <th>59181088</th>\n",
       "      <td>d_1941</td>\n",
       "      <td>0</td>\n",
       "      <td>2016-05-22</td>\n",
       "      <td>11617</td>\n",
       "      <td>Sunday</td>\n",
       "      <td>2</td>\n",
       "      <td>5</td>\n",
       "      <td>2016</td>\n",
       "      <td>0</td>\n",
       "      <td>0</td>\n",
       "      <td>...</td>\n",
       "      <td>19</td>\n",
       "      <td>2</td>\n",
       "      <td>3</td>\n",
       "      <td>1</td>\n",
       "      <td>14359</td>\n",
       "      <td>1435</td>\n",
       "      <td>2</td>\n",
       "      <td>0</td>\n",
       "      <td>9</td>\n",
       "      <td>2</td>\n",
       "    </tr>\n",
       "    <tr>\n",
       "      <th>59181089</th>\n",
       "      <td>d_1941</td>\n",
       "      <td>1</td>\n",
       "      <td>2016-05-22</td>\n",
       "      <td>11617</td>\n",
       "      <td>Sunday</td>\n",
       "      <td>2</td>\n",
       "      <td>5</td>\n",
       "      <td>2016</td>\n",
       "      <td>0</td>\n",
       "      <td>0</td>\n",
       "      <td>...</td>\n",
       "      <td>19</td>\n",
       "      <td>2</td>\n",
       "      <td>3</td>\n",
       "      <td>1</td>\n",
       "      <td>14369</td>\n",
       "      <td>1436</td>\n",
       "      <td>2</td>\n",
       "      <td>0</td>\n",
       "      <td>9</td>\n",
       "      <td>2</td>\n",
       "    </tr>\n",
       "  </tbody>\n",
       "</table>\n",
       "<p>59181090 rows × 42 columns</p>\n",
       "</div>"
      ],
      "text/plain": [
       "               d  sold       date  wm_yr_wk   weekday  wday  month  year  \\\n",
       "0            d_1     0 2011-01-29     11101  Saturday     1      1  2011   \n",
       "1            d_1     0 2011-01-29     11101  Saturday     1      1  2011   \n",
       "2            d_1     0 2011-01-29     11101  Saturday     1      1  2011   \n",
       "3            d_1     0 2011-01-29     11101  Saturday     1      1  2011   \n",
       "4            d_1     0 2011-01-29     11101  Saturday     1      1  2011   \n",
       "...          ...   ...        ...       ...       ...   ...    ...   ...   \n",
       "59181085  d_1941     1 2016-05-22     11617    Sunday     2      5  2016   \n",
       "59181086  d_1941     0 2016-05-22     11617    Sunday     2      5  2016   \n",
       "59181087  d_1941     2 2016-05-22     11617    Sunday     2      5  2016   \n",
       "59181088  d_1941     0 2016-05-22     11617    Sunday     2      5  2016   \n",
       "59181089  d_1941     1 2016-05-22     11617    Sunday     2      5  2016   \n",
       "\n",
       "          snap_CA  snap_TX  ...  event_name_1_  event_type_1_  event_name_2_  \\\n",
       "0               0        0  ...             19              2              3   \n",
       "1               0        0  ...             19              2              3   \n",
       "2               0        0  ...             19              2              3   \n",
       "3               0        0  ...             19              2              3   \n",
       "4               0        0  ...             19              2              3   \n",
       "...           ...      ...  ...            ...            ...            ...   \n",
       "59181085        0        0  ...             19              2              3   \n",
       "59181086        0        0  ...             19              2              3   \n",
       "59181087        0        0  ...             19              2              3   \n",
       "59181088        0        0  ...             19              2              3   \n",
       "59181089        0        0  ...             19              2              3   \n",
       "\n",
       "          event_type_2_    id_  item_id_  dept_id_  cat_id_  store_id_  \\\n",
       "0                     1  14370      1437         3        1          0   \n",
       "1                     1  14380      1438         3        1          0   \n",
       "2                     1  14390      1439         3        1          0   \n",
       "3                     1  14400      1440         3        1          0   \n",
       "4                     1  14410      1441         3        1          0   \n",
       "...                 ...    ...       ...       ...      ...        ...   \n",
       "59181085              1  14329      1432         2        0          9   \n",
       "59181086              1  14339      1433         2        0          9   \n",
       "59181087              1  14349      1434         2        0          9   \n",
       "59181088              1  14359      1435         2        0          9   \n",
       "59181089              1  14369      1436         2        0          9   \n",
       "\n",
       "          state_id_  \n",
       "0                 0  \n",
       "1                 0  \n",
       "2                 0  \n",
       "3                 0  \n",
       "4                 0  \n",
       "...             ...  \n",
       "59181085          2  \n",
       "59181086          2  \n",
       "59181087          2  \n",
       "59181088          2  \n",
       "59181089          2  \n",
       "\n",
       "[59181090 rows x 42 columns]"
      ]
     },
     "execution_count": 42,
     "metadata": {},
     "output_type": "execute_result"
    }
   ],
   "source": [
    "df_final"
   ]
  },
  {
   "cell_type": "code",
   "execution_count": 43,
   "id": "9cdec3fd",
   "metadata": {},
   "outputs": [],
   "source": [
    "l=[]\n",
    "for i in df_final['d']:\n",
    "    l.append(i.split('_')[1])\n",
    "df_final['day']=l\n",
    "#https://stackoverflow.com/questions/15891038/change-column-type-in-pandas\n",
    "df_final['day']=df_final['day'].astype(np.int16)"
   ]
  },
  {
   "cell_type": "code",
   "execution_count": 44,
   "id": "875aacae",
   "metadata": {},
   "outputs": [],
   "source": [
    "df_final_copy = df_final"
   ]
  },
  {
   "cell_type": "code",
   "execution_count": 34,
   "id": "97d32a29",
   "metadata": {},
   "outputs": [
    {
     "data": {
      "text/plain": [
       "Index(['d', 'sold', 'date', 'wm_yr_wk', 'weekday', 'wday', 'month', 'year',\n",
       "       'snap_CA', 'snap_TX', 'snap_WI', 'is_high_sale_months',\n",
       "       'is_high_sale_day', 'is_christmas', 'sell_price', 'lag_1', 'lag_7',\n",
       "       'lag_14', 'lag_21', 'lag_28', 'lag_35', 'lag_42', 'lag_49', 'lag_56',\n",
       "       'lag_63', 'lag_70', 'rolling_mean_7', 'rolling_mean_14',\n",
       "       'rolling_mean_28', 'rolling_mean_35', 'rolling_mean_42',\n",
       "       'expanding_mean', 'event_name_1_', 'event_type_1_', 'event_name_2_',\n",
       "       'event_type_2_', 'id_', 'item_id_', 'dept_id_', 'cat_id_', 'store_id_',\n",
       "       'state_id_', 'day'],\n",
       "      dtype='object')"
      ]
     },
     "execution_count": 34,
     "metadata": {},
     "output_type": "execute_result"
    }
   ],
   "source": [
    "df_final.columns"
   ]
  },
  {
   "cell_type": "markdown",
   "id": "8845f1b1",
   "metadata": {},
   "source": [
    "## A. Separating Target and independent Variables - Simple Features"
   ]
  },
  {
   "cell_type": "code",
   "execution_count": 45,
   "id": "54d0e224",
   "metadata": {},
   "outputs": [],
   "source": [
    "data=df_final[['sold','wm_yr_wk','wday','month','year','snap_CA','snap_TX','snap_WI','event_name_1_','event_type_1_','event_name_2_','event_type_2_','id_','item_id_','dept_id_','cat_id_','store_id_','state_id_','day']]     "
   ]
  },
  {
   "cell_type": "code",
   "execution_count": 47,
   "id": "320d79a4",
   "metadata": {},
   "outputs": [],
   "source": [
    "x=data[['wm_yr_wk','wday','month','year','snap_CA','snap_TX','snap_WI',\t'event_name_1_','event_type_1_','event_name_2_','event_type_2_','id_','item_id_','dept_id_','cat_id_','store_id_','state_id_','day']]"
   ]
  },
  {
   "cell_type": "code",
   "execution_count": 48,
   "id": "2c451d64",
   "metadata": {},
   "outputs": [],
   "source": [
    "y=data[['day','sold']]"
   ]
  },
  {
   "cell_type": "code",
   "execution_count": 49,
   "id": "56a16e60",
   "metadata": {},
   "outputs": [],
   "source": [
    "x_train=x.loc[x['day']<1914]\n",
    "x_test=x.loc[x['day']>=1914]"
   ]
  },
  {
   "cell_type": "code",
   "execution_count": null,
   "id": "0a5210d3",
   "metadata": {},
   "outputs": [],
   "source": [
    "print(\"x_train {}\".format(x_train.shape))\n",
    "print(\"\\nx_test {}\".format(x_test.shape))"
   ]
  },
  {
   "cell_type": "code",
   "execution_count": 50,
   "id": "1f343bd1",
   "metadata": {},
   "outputs": [],
   "source": [
    "y_train=y.loc[y['day']<1914]\n",
    "y_test=y.loc[y['day']>=1914]"
   ]
  },
  {
   "cell_type": "code",
   "execution_count": null,
   "id": "3d84dc4c",
   "metadata": {},
   "outputs": [],
   "source": [
    "print(\"y_train {}\".format(y_train.shape))\n",
    "print(\"\\ny_test {}\".format(y_test.shape))"
   ]
  },
  {
   "cell_type": "code",
   "execution_count": 51,
   "id": "c75610ca",
   "metadata": {},
   "outputs": [
    {
     "name": "stderr",
     "output_type": "stream",
     "text": [
      "C:\\Users\\Owner\\AppData\\Local\\Temp\\ipykernel_3180\\1698220734.py:1: SettingWithCopyWarning: \n",
      "A value is trying to be set on a copy of a slice from a DataFrame\n",
      "\n",
      "See the caveats in the documentation: https://pandas.pydata.org/pandas-docs/stable/user_guide/indexing.html#returning-a-view-versus-a-copy\n",
      "  y_train.drop(columns=['day'],inplace=True)\n",
      "C:\\Users\\Owner\\AppData\\Local\\Temp\\ipykernel_3180\\1698220734.py:2: SettingWithCopyWarning: \n",
      "A value is trying to be set on a copy of a slice from a DataFrame\n",
      "\n",
      "See the caveats in the documentation: https://pandas.pydata.org/pandas-docs/stable/user_guide/indexing.html#returning-a-view-versus-a-copy\n",
      "  y_test.drop(columns=['day'],inplace=True)\n"
     ]
    }
   ],
   "source": [
    "y_train.drop(columns=['day'],inplace=True)\n",
    "y_test.drop(columns=['day'],inplace=True)"
   ]
  },
  {
   "cell_type": "code",
   "execution_count": 52,
   "id": "62d40de3",
   "metadata": {},
   "outputs": [
    {
     "name": "stdout",
     "output_type": "stream",
     "text": [
      "y_train (58327370, 1)\n",
      "\n",
      "y_test (853720, 1)\n"
     ]
    }
   ],
   "source": [
    "print(\"y_train {}\".format(y_train.shape))\n",
    "print(\"\\ny_test {}\".format(y_test.shape))"
   ]
  },
  {
   "cell_type": "markdown",
   "id": "387883e7",
   "metadata": {},
   "source": [
    "## A.1 Linear regression with lasso. (L1 regularization)"
   ]
  },
  {
   "cell_type": "code",
   "execution_count": 53,
   "id": "ba9d176c",
   "metadata": {},
   "outputs": [],
   "source": [
    "with open(r'simple_feature.pkl','wb') as f:\n",
    "    pickle.dump([x_train,x_test,y_train,y_test], f)"
   ]
  },
  {
   "cell_type": "code",
   "execution_count": 8,
   "id": "6431ce9a",
   "metadata": {},
   "outputs": [],
   "source": [
    "with open(r'simple_feature.pkl', 'rb') as f:\n",
    "    x_train,x_test,y_train,y_test= pickle.load(f)"
   ]
  },
  {
   "cell_type": "code",
   "execution_count": 9,
   "id": "7a25bcd8",
   "metadata": {},
   "outputs": [
    {
     "data": {
      "text/plain": [
       "Lasso(alpha=0.1)"
      ]
     },
     "execution_count": 9,
     "metadata": {},
     "output_type": "execute_result"
    }
   ],
   "source": [
    "clf = linear_model.Lasso(alpha=0.1)\n",
    "clf.fit(x_train,y_train)"
   ]
  },
  {
   "cell_type": "code",
   "execution_count": 10,
   "id": "1ce21800",
   "metadata": {},
   "outputs": [],
   "source": [
    "lasso_y_predicted=clf.predict(x_test)"
   ]
  },
  {
   "cell_type": "code",
   "execution_count": 32,
   "id": "32fa6f81",
   "metadata": {},
   "outputs": [
    {
     "data": {
      "text/plain": [
       "(853720,)"
      ]
     },
     "execution_count": 32,
     "metadata": {},
     "output_type": "execute_result"
    }
   ],
   "source": [
    "lasso_y_predicted.shape"
   ]
  },
  {
   "cell_type": "code",
   "execution_count": 12,
   "id": "ac33e410",
   "metadata": {},
   "outputs": [
    {
     "name": "stdout",
     "output_type": "stream",
     "text": [
      "RMSE using Linear regreation with L1 : 13.05074764699362\n"
     ]
    }
   ],
   "source": [
    "RMSE=mean_squared_error(y_test['sold'], lasso_y_predicted, squared=True)\n",
    "print('RMSE using Linear regreation with L1 :',RMSE)"
   ]
  },
  {
   "cell_type": "code",
   "execution_count": 13,
   "id": "963ab46f",
   "metadata": {},
   "outputs": [
    {
     "name": "stdout",
     "output_type": "stream",
     "text": [
      "R2:  0.015349773106556608\n"
     ]
    }
   ],
   "source": [
    "l1_r2 = metrics.r2_score(y_test['sold'], lasso_y_predicted)\n",
    "print(\"R2: \",l1_r2)"
   ]
  },
  {
   "cell_type": "markdown",
   "id": "ff26c3cf",
   "metadata": {},
   "source": [
    "##  A.2 DecisionTreeRegressor"
   ]
  },
  {
   "cell_type": "code",
   "execution_count": 18,
   "id": "55bb8cb9",
   "metadata": {},
   "outputs": [
    {
     "data": {
      "text/plain": [
       "DecisionTreeRegressor(random_state=0)"
      ]
     },
     "execution_count": 18,
     "metadata": {},
     "output_type": "execute_result"
    }
   ],
   "source": [
    "clf=DecisionTreeRegressor(random_state=0)\n",
    "clf.fit(x_train,y_train)"
   ]
  },
  {
   "cell_type": "code",
   "execution_count": 19,
   "id": "ddc64772",
   "metadata": {},
   "outputs": [],
   "source": [
    "decison_y_predicted=clf.predict(x_test)"
   ]
  },
  {
   "cell_type": "code",
   "execution_count": 20,
   "id": "1fd92297",
   "metadata": {},
   "outputs": [
    {
     "name": "stdout",
     "output_type": "stream",
     "text": [
      "RMSE using DecisionTreeRegressor: 8.768130066063815\n"
     ]
    }
   ],
   "source": [
    "RMSE=mean_squared_error(y_test['sold'], decison_y_predicted, squared=True)\n",
    "print('RMSE using DecisionTreeRegressor:',RMSE)"
   ]
  },
  {
   "cell_type": "code",
   "execution_count": 21,
   "id": "048185f9",
   "metadata": {},
   "outputs": [
    {
     "name": "stdout",
     "output_type": "stream",
     "text": [
      "Accuracy:  0.4246603101719533\n"
     ]
    }
   ],
   "source": [
    "decison_acc = metrics.accuracy_score(y_test['sold'], decison_y_predicted)\n",
    "print(\"Accuracy: \",decison_acc)"
   ]
  },
  {
   "cell_type": "code",
   "execution_count": 22,
   "id": "7a5939c9",
   "metadata": {},
   "outputs": [
    {
     "name": "stdout",
     "output_type": "stream",
     "text": [
      "R2:  0.3384638572051627\n"
     ]
    }
   ],
   "source": [
    "decision_r2 = metrics.r2_score(y_test['sold'], decison_y_predicted)\n",
    "print(\"R2: \",decision_r2)"
   ]
  },
  {
   "cell_type": "markdown",
   "id": "ac7041db",
   "metadata": {},
   "source": [
    "## A.3 LGBMRegressor"
   ]
  },
  {
   "cell_type": "code",
   "execution_count": 14,
   "id": "c0148a27",
   "metadata": {},
   "outputs": [
    {
     "data": {
      "text/plain": [
       "LGBMRegressor()"
      ]
     },
     "execution_count": 14,
     "metadata": {},
     "output_type": "execute_result"
    }
   ],
   "source": [
    "gbm_clf=LGBMRegressor(n_jobs=- 1)\n",
    "gbm_clf.fit(x_train,y_train)"
   ]
  },
  {
   "cell_type": "code",
   "execution_count": 15,
   "id": "a6090e1e",
   "metadata": {},
   "outputs": [],
   "source": [
    "gbm_y_predicted=gbm_clf.predict(x_test)"
   ]
  },
  {
   "cell_type": "code",
   "execution_count": 16,
   "id": "b40f25e1",
   "metadata": {},
   "outputs": [
    {
     "name": "stdout",
     "output_type": "stream",
     "text": [
      "RMSE using LGBMRegressor: 11.926172051591175\n"
     ]
    }
   ],
   "source": [
    "RMSE=mean_squared_error(y_test['sold'], gbm_y_predicted, squared=True)\n",
    "print('RMSE using LGBMRegressor:',RMSE)"
   ]
  },
  {
   "cell_type": "code",
   "execution_count": 17,
   "id": "8bad6581",
   "metadata": {},
   "outputs": [
    {
     "name": "stdout",
     "output_type": "stream",
     "text": [
      "R2:  0.10019653017544594\n"
     ]
    }
   ],
   "source": [
    "gbm_r2 = metrics.r2_score(y_test['sold'], gbm_y_predicted)\n",
    "print(\"R2: \",gbm_r2)"
   ]
  },
  {
   "cell_type": "markdown",
   "id": "6accc682",
   "metadata": {},
   "source": [
    "## B. Separating Target and independent Variables - Adding Day feature"
   ]
  },
  {
   "cell_type": "code",
   "execution_count": 54,
   "id": "ea0b9387",
   "metadata": {},
   "outputs": [],
   "source": [
    "data_2=df_final[['sold','is_high_sale_months','is_high_sale_day','is_christmas','wm_yr_wk','wday','month','year','snap_CA','snap_TX','snap_WI','event_name_1_','event_type_1_','event_name_2_','event_type_2_','id_','item_id_','dept_id_','cat_id_','store_id_','state_id_','day']]"
   ]
  },
  {
   "cell_type": "code",
   "execution_count": 55,
   "id": "2bc09cc7",
   "metadata": {},
   "outputs": [],
   "source": [
    "x=data_2[['is_high_sale_months','is_high_sale_day','is_christmas','wm_yr_wk','wday','month','year','snap_CA','snap_TX','snap_WI','event_name_1_','event_type_1_','event_name_2_','event_type_2_','id_','item_id_','dept_id_','cat_id_','store_id_','state_id_','day']]"
   ]
  },
  {
   "cell_type": "code",
   "execution_count": 56,
   "id": "e38cf331",
   "metadata": {},
   "outputs": [],
   "source": [
    "y=data_2[['day','sold']]"
   ]
  },
  {
   "cell_type": "code",
   "execution_count": 57,
   "id": "d71712e7",
   "metadata": {},
   "outputs": [],
   "source": [
    "x_train=x.loc[x['day']<1914]\n",
    "x_test=x.loc[x['day']>=1914]"
   ]
  },
  {
   "cell_type": "code",
   "execution_count": 58,
   "id": "61f4242b",
   "metadata": {},
   "outputs": [],
   "source": [
    "y_train=y.loc[y['day']<1914]\n",
    "y_test=y.loc[y['day']>=1914]"
   ]
  },
  {
   "cell_type": "code",
   "execution_count": 59,
   "id": "8413a321",
   "metadata": {},
   "outputs": [],
   "source": [
    "with open(r'days_feature.pkl','wb') as f:\n",
    "    pickle.dump([x_train,x_test,y_train,y_test], f)"
   ]
  },
  {
   "cell_type": "code",
   "execution_count": 23,
   "id": "4c0257f6",
   "metadata": {},
   "outputs": [],
   "source": [
    "with open(r'days_feature.pkl', 'rb') as f:\n",
    "    x_train,x_test,y_train,y_test= pickle.load(f)"
   ]
  },
  {
   "cell_type": "code",
   "execution_count": 24,
   "id": "cf5a5798",
   "metadata": {},
   "outputs": [],
   "source": [
    "y_train.drop(columns=['day'],inplace=True)\n",
    "y_test.drop(columns=['day'],inplace=True)"
   ]
  },
  {
   "cell_type": "markdown",
   "id": "61e39c64",
   "metadata": {},
   "source": [
    "## B.1 Lasso regression"
   ]
  },
  {
   "cell_type": "code",
   "execution_count": 25,
   "id": "d3d757aa",
   "metadata": {},
   "outputs": [
    {
     "data": {
      "text/plain": [
       "Lasso(alpha=0.1)"
      ]
     },
     "execution_count": 25,
     "metadata": {},
     "output_type": "execute_result"
    }
   ],
   "source": [
    "linear_clf = linear_model.Lasso(alpha=0.1)\n",
    "linear_clf.fit(x_train,y_train)"
   ]
  },
  {
   "cell_type": "code",
   "execution_count": 26,
   "id": "ee7d2c7d",
   "metadata": {},
   "outputs": [],
   "source": [
    "lasso_y_predicted=linear_clf.predict(x_test)"
   ]
  },
  {
   "cell_type": "code",
   "execution_count": 27,
   "id": "08f7e5ff",
   "metadata": {},
   "outputs": [
    {
     "data": {
      "text/plain": [
       "(853720,)"
      ]
     },
     "execution_count": 27,
     "metadata": {},
     "output_type": "execute_result"
    }
   ],
   "source": [
    "lasso_y_predicted.shape"
   ]
  },
  {
   "cell_type": "code",
   "execution_count": 28,
   "id": "64be5d27",
   "metadata": {},
   "outputs": [
    {
     "data": {
      "text/plain": [
       "(853720, 1)"
      ]
     },
     "execution_count": 28,
     "metadata": {},
     "output_type": "execute_result"
    }
   ],
   "source": [
    "y_test.shape"
   ]
  },
  {
   "cell_type": "code",
   "execution_count": 29,
   "id": "9bdec6f4",
   "metadata": {},
   "outputs": [
    {
     "name": "stdout",
     "output_type": "stream",
     "text": [
      "RMSE using Linear regreation with L1: 13.05074764699362\n"
     ]
    }
   ],
   "source": [
    "RMSE=mean_squared_error(y_test['sold'], lasso_y_predicted, squared=True)\n",
    "print('RMSE using Linear regreation with L1:',RMSE)"
   ]
  },
  {
   "cell_type": "code",
   "execution_count": 30,
   "id": "8a36bbd5",
   "metadata": {},
   "outputs": [
    {
     "name": "stdout",
     "output_type": "stream",
     "text": [
      "R2:  0.015349773106556608\n"
     ]
    }
   ],
   "source": [
    "l1_r2 = metrics.r2_score(y_test['sold'], lasso_y_predicted)\n",
    "print(\"R2: \",l1_r2)"
   ]
  },
  {
   "cell_type": "markdown",
   "id": "75dc86d9",
   "metadata": {},
   "source": [
    "## B.2 Decision Trees"
   ]
  },
  {
   "cell_type": "code",
   "execution_count": 37,
   "id": "a47480a7",
   "metadata": {},
   "outputs": [
    {
     "data": {
      "text/plain": [
       "DecisionTreeRegressor(random_state=0)"
      ]
     },
     "execution_count": 37,
     "metadata": {},
     "output_type": "execute_result"
    }
   ],
   "source": [
    "decision_clf=DecisionTreeRegressor(random_state=0)\n",
    "decision_clf.fit(x_train,y_train)"
   ]
  },
  {
   "cell_type": "code",
   "execution_count": 38,
   "id": "fcda6c2a",
   "metadata": {},
   "outputs": [],
   "source": [
    "decision_y_predicted=decision_clf.predict(x_test)"
   ]
  },
  {
   "cell_type": "code",
   "execution_count": 39,
   "id": "76817baa",
   "metadata": {},
   "outputs": [
    {
     "name": "stdout",
     "output_type": "stream",
     "text": [
      "RMSE using Decision True: 8.678277421168533\n"
     ]
    }
   ],
   "source": [
    "RMSE=mean_squared_error(y_test['sold'], decision_y_predicted, squared=True)\n",
    "print('RMSE using Decision True:',RMSE)"
   ]
  },
  {
   "cell_type": "code",
   "execution_count": 40,
   "id": "d7e785ee",
   "metadata": {},
   "outputs": [
    {
     "name": "stdout",
     "output_type": "stream",
     "text": [
      "R2:  0.3452430417834115\n"
     ]
    }
   ],
   "source": [
    "decision_r2 = metrics.r2_score(y_test['sold'], decision_y_predicted)\n",
    "print(\"R2: \",decision_r2)"
   ]
  },
  {
   "cell_type": "markdown",
   "id": "097f695f",
   "metadata": {},
   "source": [
    "## B.3 Light GBM"
   ]
  },
  {
   "cell_type": "code",
   "execution_count": 33,
   "id": "c38f4fa0",
   "metadata": {},
   "outputs": [
    {
     "data": {
      "text/plain": [
       "LGBMRegressor()"
      ]
     },
     "execution_count": 33,
     "metadata": {},
     "output_type": "execute_result"
    }
   ],
   "source": [
    "gbm_clf=LGBMRegressor(n_jobs=- 1)\n",
    "gbm_clf.fit(x_train,y_train)"
   ]
  },
  {
   "cell_type": "code",
   "execution_count": 34,
   "id": "688739f9",
   "metadata": {},
   "outputs": [],
   "source": [
    "gbm_y_predicted=gbm_clf.predict(x_test)"
   ]
  },
  {
   "cell_type": "code",
   "execution_count": 35,
   "id": "b83e4771",
   "metadata": {},
   "outputs": [
    {
     "name": "stdout",
     "output_type": "stream",
     "text": [
      "RMSE using LGBMRegressor: 11.908841022390906\n"
     ]
    }
   ],
   "source": [
    "RMSE=mean_squared_error(y_test['sold'], gbm_y_predicted, squared=True)\n",
    "print('RMSE using LGBMRegressor:',RMSE)"
   ]
  },
  {
   "cell_type": "code",
   "execution_count": 36,
   "id": "de777974",
   "metadata": {},
   "outputs": [
    {
     "name": "stdout",
     "output_type": "stream",
     "text": [
      "R2:  0.10150411823828565\n"
     ]
    }
   ],
   "source": [
    "gbm_r2 = metrics.r2_score(y_test['sold'], gbm_y_predicted)\n",
    "print(\"R2: \",gbm_r2)"
   ]
  },
  {
   "cell_type": "markdown",
   "id": "d4612a74",
   "metadata": {},
   "source": [
    "## C. Separating Target and independent Variables -  Adding Lags, Rolling mean and Expanding window features"
   ]
  },
  {
   "cell_type": "code",
   "execution_count": 34,
   "id": "0b5021d9",
   "metadata": {},
   "outputs": [],
   "source": [
    "data_final=df_final[['sold','expanding_mean','rolling_mean_7','rolling_mean_14','rolling_mean_28','rolling_mean_35','rolling_mean_42','lag_1','lag_7','lag_14',\t'lag_21','lag_28','lag_35','lag_42','lag_49','lag_56','lag_63','lag_70','is_high_sale_months','is_high_sale_day','is_christmas','wm_yr_wk','wday','month','year','snap_CA','snap_TX','snap_WI','event_name_1_','event_type_1_','event_name_2_','event_type_2_','id_','item_id_','dept_id_','cat_id_','store_id_','state_id_','day']]"
   ]
  },
  {
   "cell_type": "code",
   "execution_count": 35,
   "id": "f36c471f",
   "metadata": {},
   "outputs": [],
   "source": [
    "x=data_final[['rolling_mean_7','expanding_mean','rolling_mean_14','rolling_mean_28','rolling_mean_35','rolling_mean_42','lag_1','lag_7','lag_14','lag_21','lag_28','lag_35','lag_42','lag_49','lag_56','lag_63','lag_70','is_high_sale_months','is_high_sale_day','is_christmas','wm_yr_wk','wday','month','year','snap_CA','snap_TX','snap_WI','event_name_1_','event_type_1_','event_name_2_','event_type_2_','id_','item_id_','dept_id_','cat_id_','store_id_','state_id_','day']]"
   ]
  },
  {
   "cell_type": "code",
   "execution_count": 36,
   "id": "a46b0da6",
   "metadata": {},
   "outputs": [],
   "source": [
    "y=data_final[['day','sold']]"
   ]
  },
  {
   "cell_type": "code",
   "execution_count": 37,
   "id": "a84b9b8c",
   "metadata": {},
   "outputs": [],
   "source": [
    "x_train=x.loc[x['day']<1914]\n",
    "x_test=x.loc[x['day']>=1914]"
   ]
  },
  {
   "cell_type": "code",
   "execution_count": 38,
   "id": "5a2d11dd",
   "metadata": {},
   "outputs": [],
   "source": [
    "y_train=y.loc[y['day']<1914]\n",
    "y_test=y.loc[y['day']>=1914]"
   ]
  },
  {
   "cell_type": "code",
   "execution_count": 39,
   "id": "f6f31041",
   "metadata": {},
   "outputs": [
    {
     "name": "stderr",
     "output_type": "stream",
     "text": [
      "C:\\Users\\Owner\\AppData\\Local\\Temp\\ipykernel_1808\\1698220734.py:1: SettingWithCopyWarning: \n",
      "A value is trying to be set on a copy of a slice from a DataFrame\n",
      "\n",
      "See the caveats in the documentation: https://pandas.pydata.org/pandas-docs/stable/user_guide/indexing.html#returning-a-view-versus-a-copy\n",
      "  y_train.drop(columns=['day'],inplace=True)\n",
      "C:\\Users\\Owner\\AppData\\Local\\Temp\\ipykernel_1808\\1698220734.py:2: SettingWithCopyWarning: \n",
      "A value is trying to be set on a copy of a slice from a DataFrame\n",
      "\n",
      "See the caveats in the documentation: https://pandas.pydata.org/pandas-docs/stable/user_guide/indexing.html#returning-a-view-versus-a-copy\n",
      "  y_test.drop(columns=['day'],inplace=True)\n"
     ]
    }
   ],
   "source": [
    "y_train.drop(columns=['day'],inplace=True)\n",
    "y_test.drop(columns=['day'],inplace=True)"
   ]
  },
  {
   "cell_type": "code",
   "execution_count": 40,
   "id": "5c4dbd85",
   "metadata": {
    "scrolled": false
   },
   "outputs": [
    {
     "name": "stderr",
     "output_type": "stream",
     "text": [
      "C:\\Users\\Owner\\anaconda3\\lib\\site-packages\\downcast.py:19: SettingWithCopyWarning: \n",
      "A value is trying to be set on a copy of a slice from a DataFrame.\n",
      "Try using .loc[row_indexer,col_indexer] = value instead\n",
      "\n",
      "See the caveats in the documentation: https://pandas.pydata.org/pandas-docs/stable/user_guide/indexing.html#returning-a-view-versus-a-copy\n",
      "  df[cols[i]] = df[cols[i]].astype(np.float16)\n",
      "C:\\Users\\Owner\\anaconda3\\lib\\site-packages\\downcast.py:19: SettingWithCopyWarning: \n",
      "A value is trying to be set on a copy of a slice from a DataFrame.\n",
      "Try using .loc[row_indexer,col_indexer] = value instead\n",
      "\n",
      "See the caveats in the documentation: https://pandas.pydata.org/pandas-docs/stable/user_guide/indexing.html#returning-a-view-versus-a-copy\n",
      "  df[cols[i]] = df[cols[i]].astype(np.float16)\n",
      "C:\\Users\\Owner\\anaconda3\\lib\\site-packages\\downcast.py:19: SettingWithCopyWarning: \n",
      "A value is trying to be set on a copy of a slice from a DataFrame.\n",
      "Try using .loc[row_indexer,col_indexer] = value instead\n",
      "\n",
      "See the caveats in the documentation: https://pandas.pydata.org/pandas-docs/stable/user_guide/indexing.html#returning-a-view-versus-a-copy\n",
      "  df[cols[i]] = df[cols[i]].astype(np.float16)\n",
      "C:\\Users\\Owner\\anaconda3\\lib\\site-packages\\downcast.py:19: SettingWithCopyWarning: \n",
      "A value is trying to be set on a copy of a slice from a DataFrame.\n",
      "Try using .loc[row_indexer,col_indexer] = value instead\n",
      "\n",
      "See the caveats in the documentation: https://pandas.pydata.org/pandas-docs/stable/user_guide/indexing.html#returning-a-view-versus-a-copy\n",
      "  df[cols[i]] = df[cols[i]].astype(np.float16)\n",
      "C:\\Users\\Owner\\anaconda3\\lib\\site-packages\\downcast.py:19: SettingWithCopyWarning: \n",
      "A value is trying to be set on a copy of a slice from a DataFrame.\n",
      "Try using .loc[row_indexer,col_indexer] = value instead\n",
      "\n",
      "See the caveats in the documentation: https://pandas.pydata.org/pandas-docs/stable/user_guide/indexing.html#returning-a-view-versus-a-copy\n",
      "  df[cols[i]] = df[cols[i]].astype(np.float16)\n",
      "C:\\Users\\Owner\\anaconda3\\lib\\site-packages\\downcast.py:19: SettingWithCopyWarning: \n",
      "A value is trying to be set on a copy of a slice from a DataFrame.\n",
      "Try using .loc[row_indexer,col_indexer] = value instead\n",
      "\n",
      "See the caveats in the documentation: https://pandas.pydata.org/pandas-docs/stable/user_guide/indexing.html#returning-a-view-versus-a-copy\n",
      "  df[cols[i]] = df[cols[i]].astype(np.float16)\n",
      "C:\\Users\\Owner\\anaconda3\\lib\\site-packages\\downcast.py:19: SettingWithCopyWarning: \n",
      "A value is trying to be set on a copy of a slice from a DataFrame.\n",
      "Try using .loc[row_indexer,col_indexer] = value instead\n",
      "\n",
      "See the caveats in the documentation: https://pandas.pydata.org/pandas-docs/stable/user_guide/indexing.html#returning-a-view-versus-a-copy\n",
      "  df[cols[i]] = df[cols[i]].astype(np.float16)\n",
      "C:\\Users\\Owner\\anaconda3\\lib\\site-packages\\downcast.py:19: SettingWithCopyWarning: \n",
      "A value is trying to be set on a copy of a slice from a DataFrame.\n",
      "Try using .loc[row_indexer,col_indexer] = value instead\n",
      "\n",
      "See the caveats in the documentation: https://pandas.pydata.org/pandas-docs/stable/user_guide/indexing.html#returning-a-view-versus-a-copy\n",
      "  df[cols[i]] = df[cols[i]].astype(np.float16)\n",
      "C:\\Users\\Owner\\anaconda3\\lib\\site-packages\\downcast.py:19: SettingWithCopyWarning: \n",
      "A value is trying to be set on a copy of a slice from a DataFrame.\n",
      "Try using .loc[row_indexer,col_indexer] = value instead\n",
      "\n",
      "See the caveats in the documentation: https://pandas.pydata.org/pandas-docs/stable/user_guide/indexing.html#returning-a-view-versus-a-copy\n",
      "  df[cols[i]] = df[cols[i]].astype(np.float16)\n",
      "C:\\Users\\Owner\\anaconda3\\lib\\site-packages\\downcast.py:19: SettingWithCopyWarning: \n",
      "A value is trying to be set on a copy of a slice from a DataFrame.\n",
      "Try using .loc[row_indexer,col_indexer] = value instead\n",
      "\n",
      "See the caveats in the documentation: https://pandas.pydata.org/pandas-docs/stable/user_guide/indexing.html#returning-a-view-versus-a-copy\n",
      "  df[cols[i]] = df[cols[i]].astype(np.float16)\n",
      "C:\\Users\\Owner\\anaconda3\\lib\\site-packages\\downcast.py:19: SettingWithCopyWarning: \n",
      "A value is trying to be set on a copy of a slice from a DataFrame.\n",
      "Try using .loc[row_indexer,col_indexer] = value instead\n",
      "\n",
      "See the caveats in the documentation: https://pandas.pydata.org/pandas-docs/stable/user_guide/indexing.html#returning-a-view-versus-a-copy\n",
      "  df[cols[i]] = df[cols[i]].astype(np.float16)\n",
      "C:\\Users\\Owner\\anaconda3\\lib\\site-packages\\downcast.py:19: SettingWithCopyWarning: \n",
      "A value is trying to be set on a copy of a slice from a DataFrame.\n",
      "Try using .loc[row_indexer,col_indexer] = value instead\n",
      "\n",
      "See the caveats in the documentation: https://pandas.pydata.org/pandas-docs/stable/user_guide/indexing.html#returning-a-view-versus-a-copy\n",
      "  df[cols[i]] = df[cols[i]].astype(np.float16)\n",
      "C:\\Users\\Owner\\anaconda3\\lib\\site-packages\\downcast.py:19: SettingWithCopyWarning: \n",
      "A value is trying to be set on a copy of a slice from a DataFrame.\n",
      "Try using .loc[row_indexer,col_indexer] = value instead\n",
      "\n",
      "See the caveats in the documentation: https://pandas.pydata.org/pandas-docs/stable/user_guide/indexing.html#returning-a-view-versus-a-copy\n",
      "  df[cols[i]] = df[cols[i]].astype(np.float16)\n",
      "C:\\Users\\Owner\\anaconda3\\lib\\site-packages\\downcast.py:19: SettingWithCopyWarning: \n",
      "A value is trying to be set on a copy of a slice from a DataFrame.\n",
      "Try using .loc[row_indexer,col_indexer] = value instead\n",
      "\n",
      "See the caveats in the documentation: https://pandas.pydata.org/pandas-docs/stable/user_guide/indexing.html#returning-a-view-versus-a-copy\n",
      "  df[cols[i]] = df[cols[i]].astype(np.float16)\n",
      "C:\\Users\\Owner\\anaconda3\\lib\\site-packages\\downcast.py:19: SettingWithCopyWarning: \n",
      "A value is trying to be set on a copy of a slice from a DataFrame.\n",
      "Try using .loc[row_indexer,col_indexer] = value instead\n",
      "\n",
      "See the caveats in the documentation: https://pandas.pydata.org/pandas-docs/stable/user_guide/indexing.html#returning-a-view-versus-a-copy\n",
      "  df[cols[i]] = df[cols[i]].astype(np.float16)\n",
      "C:\\Users\\Owner\\anaconda3\\lib\\site-packages\\downcast.py:19: SettingWithCopyWarning: \n",
      "A value is trying to be set on a copy of a slice from a DataFrame.\n",
      "Try using .loc[row_indexer,col_indexer] = value instead\n",
      "\n",
      "See the caveats in the documentation: https://pandas.pydata.org/pandas-docs/stable/user_guide/indexing.html#returning-a-view-versus-a-copy\n",
      "  df[cols[i]] = df[cols[i]].astype(np.float16)\n",
      "C:\\Users\\Owner\\anaconda3\\lib\\site-packages\\downcast.py:19: SettingWithCopyWarning: \n",
      "A value is trying to be set on a copy of a slice from a DataFrame.\n",
      "Try using .loc[row_indexer,col_indexer] = value instead\n",
      "\n",
      "See the caveats in the documentation: https://pandas.pydata.org/pandas-docs/stable/user_guide/indexing.html#returning-a-view-versus-a-copy\n",
      "  df[cols[i]] = df[cols[i]].astype(np.float16)\n",
      "C:\\Users\\Owner\\anaconda3\\lib\\site-packages\\downcast.py:10: SettingWithCopyWarning: \n",
      "A value is trying to be set on a copy of a slice from a DataFrame.\n",
      "Try using .loc[row_indexer,col_indexer] = value instead\n",
      "\n",
      "See the caveats in the documentation: https://pandas.pydata.org/pandas-docs/stable/user_guide/indexing.html#returning-a-view-versus-a-copy\n",
      "  df[cols[i]] = df[cols[i]].astype(np.int8)\n",
      "C:\\Users\\Owner\\anaconda3\\lib\\site-packages\\downcast.py:10: SettingWithCopyWarning: \n",
      "A value is trying to be set on a copy of a slice from a DataFrame.\n",
      "Try using .loc[row_indexer,col_indexer] = value instead\n",
      "\n",
      "See the caveats in the documentation: https://pandas.pydata.org/pandas-docs/stable/user_guide/indexing.html#returning-a-view-versus-a-copy\n",
      "  df[cols[i]] = df[cols[i]].astype(np.int8)\n",
      "C:\\Users\\Owner\\anaconda3\\lib\\site-packages\\downcast.py:10: SettingWithCopyWarning: \n",
      "A value is trying to be set on a copy of a slice from a DataFrame.\n",
      "Try using .loc[row_indexer,col_indexer] = value instead\n",
      "\n",
      "See the caveats in the documentation: https://pandas.pydata.org/pandas-docs/stable/user_guide/indexing.html#returning-a-view-versus-a-copy\n",
      "  df[cols[i]] = df[cols[i]].astype(np.int8)\n",
      "C:\\Users\\Owner\\anaconda3\\lib\\site-packages\\downcast.py:12: SettingWithCopyWarning: \n",
      "A value is trying to be set on a copy of a slice from a DataFrame.\n",
      "Try using .loc[row_indexer,col_indexer] = value instead\n",
      "\n",
      "See the caveats in the documentation: https://pandas.pydata.org/pandas-docs/stable/user_guide/indexing.html#returning-a-view-versus-a-copy\n",
      "  df[cols[i]] = df[cols[i]].astype(np.int16)\n"
     ]
    },
    {
     "name": "stderr",
     "output_type": "stream",
     "text": [
      "C:\\Users\\Owner\\anaconda3\\lib\\site-packages\\downcast.py:10: SettingWithCopyWarning: \n",
      "A value is trying to be set on a copy of a slice from a DataFrame.\n",
      "Try using .loc[row_indexer,col_indexer] = value instead\n",
      "\n",
      "See the caveats in the documentation: https://pandas.pydata.org/pandas-docs/stable/user_guide/indexing.html#returning-a-view-versus-a-copy\n",
      "  df[cols[i]] = df[cols[i]].astype(np.int8)\n",
      "C:\\Users\\Owner\\anaconda3\\lib\\site-packages\\downcast.py:10: SettingWithCopyWarning: \n",
      "A value is trying to be set on a copy of a slice from a DataFrame.\n",
      "Try using .loc[row_indexer,col_indexer] = value instead\n",
      "\n",
      "See the caveats in the documentation: https://pandas.pydata.org/pandas-docs/stable/user_guide/indexing.html#returning-a-view-versus-a-copy\n",
      "  df[cols[i]] = df[cols[i]].astype(np.int8)\n",
      "C:\\Users\\Owner\\anaconda3\\lib\\site-packages\\downcast.py:12: SettingWithCopyWarning: \n",
      "A value is trying to be set on a copy of a slice from a DataFrame.\n",
      "Try using .loc[row_indexer,col_indexer] = value instead\n",
      "\n",
      "See the caveats in the documentation: https://pandas.pydata.org/pandas-docs/stable/user_guide/indexing.html#returning-a-view-versus-a-copy\n",
      "  df[cols[i]] = df[cols[i]].astype(np.int16)\n",
      "C:\\Users\\Owner\\anaconda3\\lib\\site-packages\\downcast.py:10: SettingWithCopyWarning: \n",
      "A value is trying to be set on a copy of a slice from a DataFrame.\n",
      "Try using .loc[row_indexer,col_indexer] = value instead\n",
      "\n",
      "See the caveats in the documentation: https://pandas.pydata.org/pandas-docs/stable/user_guide/indexing.html#returning-a-view-versus-a-copy\n",
      "  df[cols[i]] = df[cols[i]].astype(np.int8)\n",
      "C:\\Users\\Owner\\anaconda3\\lib\\site-packages\\downcast.py:10: SettingWithCopyWarning: \n",
      "A value is trying to be set on a copy of a slice from a DataFrame.\n",
      "Try using .loc[row_indexer,col_indexer] = value instead\n",
      "\n",
      "See the caveats in the documentation: https://pandas.pydata.org/pandas-docs/stable/user_guide/indexing.html#returning-a-view-versus-a-copy\n",
      "  df[cols[i]] = df[cols[i]].astype(np.int8)\n",
      "C:\\Users\\Owner\\anaconda3\\lib\\site-packages\\downcast.py:10: SettingWithCopyWarning: \n",
      "A value is trying to be set on a copy of a slice from a DataFrame.\n",
      "Try using .loc[row_indexer,col_indexer] = value instead\n",
      "\n",
      "See the caveats in the documentation: https://pandas.pydata.org/pandas-docs/stable/user_guide/indexing.html#returning-a-view-versus-a-copy\n",
      "  df[cols[i]] = df[cols[i]].astype(np.int8)\n",
      "C:\\Users\\Owner\\anaconda3\\lib\\site-packages\\downcast.py:10: SettingWithCopyWarning: \n",
      "A value is trying to be set on a copy of a slice from a DataFrame.\n",
      "Try using .loc[row_indexer,col_indexer] = value instead\n",
      "\n",
      "See the caveats in the documentation: https://pandas.pydata.org/pandas-docs/stable/user_guide/indexing.html#returning-a-view-versus-a-copy\n",
      "  df[cols[i]] = df[cols[i]].astype(np.int8)\n",
      "C:\\Users\\Owner\\anaconda3\\lib\\site-packages\\downcast.py:10: SettingWithCopyWarning: \n",
      "A value is trying to be set on a copy of a slice from a DataFrame.\n",
      "Try using .loc[row_indexer,col_indexer] = value instead\n",
      "\n",
      "See the caveats in the documentation: https://pandas.pydata.org/pandas-docs/stable/user_guide/indexing.html#returning-a-view-versus-a-copy\n",
      "  df[cols[i]] = df[cols[i]].astype(np.int8)\n",
      "C:\\Users\\Owner\\anaconda3\\lib\\site-packages\\downcast.py:10: SettingWithCopyWarning: \n",
      "A value is trying to be set on a copy of a slice from a DataFrame.\n",
      "Try using .loc[row_indexer,col_indexer] = value instead\n",
      "\n",
      "See the caveats in the documentation: https://pandas.pydata.org/pandas-docs/stable/user_guide/indexing.html#returning-a-view-versus-a-copy\n",
      "  df[cols[i]] = df[cols[i]].astype(np.int8)\n",
      "C:\\Users\\Owner\\anaconda3\\lib\\site-packages\\downcast.py:10: SettingWithCopyWarning: \n",
      "A value is trying to be set on a copy of a slice from a DataFrame.\n",
      "Try using .loc[row_indexer,col_indexer] = value instead\n",
      "\n",
      "See the caveats in the documentation: https://pandas.pydata.org/pandas-docs/stable/user_guide/indexing.html#returning-a-view-versus-a-copy\n",
      "  df[cols[i]] = df[cols[i]].astype(np.int8)\n",
      "C:\\Users\\Owner\\anaconda3\\lib\\site-packages\\downcast.py:12: SettingWithCopyWarning: \n",
      "A value is trying to be set on a copy of a slice from a DataFrame.\n",
      "Try using .loc[row_indexer,col_indexer] = value instead\n",
      "\n",
      "See the caveats in the documentation: https://pandas.pydata.org/pandas-docs/stable/user_guide/indexing.html#returning-a-view-versus-a-copy\n",
      "  df[cols[i]] = df[cols[i]].astype(np.int16)\n",
      "C:\\Users\\Owner\\anaconda3\\lib\\site-packages\\downcast.py:12: SettingWithCopyWarning: \n",
      "A value is trying to be set on a copy of a slice from a DataFrame.\n",
      "Try using .loc[row_indexer,col_indexer] = value instead\n",
      "\n",
      "See the caveats in the documentation: https://pandas.pydata.org/pandas-docs/stable/user_guide/indexing.html#returning-a-view-versus-a-copy\n",
      "  df[cols[i]] = df[cols[i]].astype(np.int16)\n",
      "C:\\Users\\Owner\\anaconda3\\lib\\site-packages\\downcast.py:10: SettingWithCopyWarning: \n",
      "A value is trying to be set on a copy of a slice from a DataFrame.\n",
      "Try using .loc[row_indexer,col_indexer] = value instead\n",
      "\n",
      "See the caveats in the documentation: https://pandas.pydata.org/pandas-docs/stable/user_guide/indexing.html#returning-a-view-versus-a-copy\n",
      "  df[cols[i]] = df[cols[i]].astype(np.int8)\n",
      "C:\\Users\\Owner\\anaconda3\\lib\\site-packages\\downcast.py:10: SettingWithCopyWarning: \n",
      "A value is trying to be set on a copy of a slice from a DataFrame.\n",
      "Try using .loc[row_indexer,col_indexer] = value instead\n",
      "\n",
      "See the caveats in the documentation: https://pandas.pydata.org/pandas-docs/stable/user_guide/indexing.html#returning-a-view-versus-a-copy\n",
      "  df[cols[i]] = df[cols[i]].astype(np.int8)\n",
      "C:\\Users\\Owner\\anaconda3\\lib\\site-packages\\downcast.py:10: SettingWithCopyWarning: \n",
      "A value is trying to be set on a copy of a slice from a DataFrame.\n",
      "Try using .loc[row_indexer,col_indexer] = value instead\n",
      "\n",
      "See the caveats in the documentation: https://pandas.pydata.org/pandas-docs/stable/user_guide/indexing.html#returning-a-view-versus-a-copy\n",
      "  df[cols[i]] = df[cols[i]].astype(np.int8)\n",
      "C:\\Users\\Owner\\anaconda3\\lib\\site-packages\\downcast.py:10: SettingWithCopyWarning: \n",
      "A value is trying to be set on a copy of a slice from a DataFrame.\n",
      "Try using .loc[row_indexer,col_indexer] = value instead\n",
      "\n",
      "See the caveats in the documentation: https://pandas.pydata.org/pandas-docs/stable/user_guide/indexing.html#returning-a-view-versus-a-copy\n",
      "  df[cols[i]] = df[cols[i]].astype(np.int8)\n",
      "C:\\Users\\Owner\\anaconda3\\lib\\site-packages\\downcast.py:12: SettingWithCopyWarning: \n",
      "A value is trying to be set on a copy of a slice from a DataFrame.\n",
      "Try using .loc[row_indexer,col_indexer] = value instead\n",
      "\n",
      "See the caveats in the documentation: https://pandas.pydata.org/pandas-docs/stable/user_guide/indexing.html#returning-a-view-versus-a-copy\n",
      "  df[cols[i]] = df[cols[i]].astype(np.int16)\n",
      "C:\\Users\\Owner\\anaconda3\\lib\\site-packages\\downcast.py:12: SettingWithCopyWarning: \n",
      "A value is trying to be set on a copy of a slice from a DataFrame.\n",
      "Try using .loc[row_indexer,col_indexer] = value instead\n",
      "\n",
      "See the caveats in the documentation: https://pandas.pydata.org/pandas-docs/stable/user_guide/indexing.html#returning-a-view-versus-a-copy\n",
      "  df[cols[i]] = df[cols[i]].astype(np.int16)\n"
     ]
    }
   ],
   "source": [
    "x_train=reduce(x_train)\n",
    "y_train=reduce(y_train)"
   ]
  },
  {
   "cell_type": "code",
   "execution_count": 41,
   "id": "6347159c",
   "metadata": {},
   "outputs": [],
   "source": [
    "x_train = x_train.fillna(0)"
   ]
  },
  {
   "cell_type": "code",
   "execution_count": 43,
   "id": "2ec8bc6b",
   "metadata": {},
   "outputs": [
    {
     "name": "stderr",
     "output_type": "stream",
     "text": [
      "C:\\Users\\Owner\\anaconda3\\lib\\site-packages\\downcast.py:12: SettingWithCopyWarning: \n",
      "A value is trying to be set on a copy of a slice from a DataFrame.\n",
      "Try using .loc[row_indexer,col_indexer] = value instead\n",
      "\n",
      "See the caveats in the documentation: https://pandas.pydata.org/pandas-docs/stable/user_guide/indexing.html#returning-a-view-versus-a-copy\n",
      "  df[cols[i]] = df[cols[i]].astype(np.int16)\n"
     ]
    }
   ],
   "source": [
    "# x_train=reduce(x_train)\n",
    "# y_train=reduce(y_train)"
   ]
  },
  {
   "cell_type": "code",
   "execution_count": 44,
   "id": "34008d14",
   "metadata": {},
   "outputs": [
    {
     "data": {
      "text/plain": [
       "(58327370, 1)"
      ]
     },
     "execution_count": 44,
     "metadata": {},
     "output_type": "execute_result"
    }
   ],
   "source": [
    "y_train.shape"
   ]
  },
  {
   "cell_type": "code",
   "execution_count": 44,
   "id": "f480f479",
   "metadata": {},
   "outputs": [],
   "source": [
    "with open(r'all_features.pkl','wb') as f:\n",
    "    pickle.dump([x_train,x_test,y_train,y_test], f)"
   ]
  },
  {
   "cell_type": "code",
   "execution_count": 4,
   "id": "ab58dd75",
   "metadata": {},
   "outputs": [],
   "source": [
    "with open(r'all_features.pkl', 'rb') as f:\n",
    "    x_train,x_test,y_train,y_test= pickle.load(f)"
   ]
  },
  {
   "cell_type": "markdown",
   "id": "2f6ce425",
   "metadata": {},
   "source": [
    "## C.1 Decision Tree"
   ]
  },
  {
   "cell_type": "code",
   "execution_count": 6,
   "id": "9cda78c8",
   "metadata": {},
   "outputs": [
    {
     "data": {
      "text/plain": [
       "DecisionTreeRegressor(random_state=0)"
      ]
     },
     "execution_count": 6,
     "metadata": {},
     "output_type": "execute_result"
    }
   ],
   "source": [
    "from sklearn.tree import DecisionTreeRegressor\n",
    "decision_clf=DecisionTreeRegressor(random_state=0)\n",
    "decision_clf.fit(x_train,y_train)"
   ]
  },
  {
   "cell_type": "code",
   "execution_count": 7,
   "id": "908825f2",
   "metadata": {},
   "outputs": [],
   "source": [
    "decision_y_predicted=decision_clf.predict(x_test)"
   ]
  },
  {
   "cell_type": "code",
   "execution_count": 8,
   "id": "6ab0c002",
   "metadata": {},
   "outputs": [
    {
     "name": "stdout",
     "output_type": "stream",
     "text": [
      "RMSE using Decision True: 7.642573677552359\n"
     ]
    }
   ],
   "source": [
    "RMSE=mean_squared_error(y_test['sold'], decision_y_predicted, squared=True)\n",
    "print('RMSE using Decision True:',RMSE)"
   ]
  },
  {
   "cell_type": "code",
   "execution_count": 9,
   "id": "bca2d510",
   "metadata": {},
   "outputs": [
    {
     "name": "stdout",
     "output_type": "stream",
     "text": [
      "y_train (58327370, 1)\n",
      "\n",
      "y_test (853720, 1)\n"
     ]
    }
   ],
   "source": [
    "print(\"y_train {}\".format(y_train.shape))\n",
    "print(\"\\ny_test {}\".format(y_test.shape))"
   ]
  },
  {
   "cell_type": "code",
   "execution_count": 10,
   "id": "c1372091",
   "metadata": {},
   "outputs": [
    {
     "name": "stdout",
     "output_type": "stream",
     "text": [
      "R2:  0.42338461295852936\n"
     ]
    }
   ],
   "source": [
    "decision_r2 = metrics.r2_score(y_test['sold'], decision_y_predicted)\n",
    "print(\"R2: \",decision_r2)"
   ]
  },
  {
   "cell_type": "markdown",
   "id": "988a66e8",
   "metadata": {},
   "source": [
    "## C.2 Light GBM"
   ]
  },
  {
   "cell_type": "code",
   "execution_count": 36,
   "id": "39a39aca",
   "metadata": {},
   "outputs": [
    {
     "data": {
      "text/plain": [
       "LGBMRegressor()"
      ]
     },
     "execution_count": 36,
     "metadata": {},
     "output_type": "execute_result"
    }
   ],
   "source": [
    "import lightgbm\n",
    "from lightgbm import LGBMRegressor\n",
    "gbm_clf=LGBMRegressor(n_jobs=- 1)\n",
    "gbm_clf.fit(x_train,y_train)"
   ]
  },
  {
   "cell_type": "code",
   "execution_count": 37,
   "id": "c9687ff2",
   "metadata": {},
   "outputs": [],
   "source": [
    "gbm_y_predicted=gbm_clf.predict(x_test)"
   ]
  },
  {
   "cell_type": "code",
   "execution_count": 39,
   "id": "cc9517fd",
   "metadata": {},
   "outputs": [
    {
     "name": "stdout",
     "output_type": "stream",
     "text": [
      "RMSE using LGBMRegressor: 3.0474313818653593\n"
     ]
    }
   ],
   "source": [
    "RMSE=mean_squared_error(y_test['sold'], gbm_y_predicted, squared=True)\n",
    "print('RMSE using LGBMRegressor:',RMSE)"
   ]
  },
  {
   "cell_type": "code",
   "execution_count": 42,
   "id": "c0aae77f",
   "metadata": {},
   "outputs": [
    {
     "name": "stdout",
     "output_type": "stream",
     "text": [
      "R2:  0.7700779999154179\n"
     ]
    }
   ],
   "source": [
    "gbm_r2 = metrics.r2_score(y_test['sold'], gbm_y_predicted)\n",
    "print(\"R2: \",gbm_r2)"
   ]
  },
  {
   "cell_type": "markdown",
   "id": "8dde4a3c",
   "metadata": {},
   "source": [
    "## C.3 Linear regression with lasso (L1 regularization)"
   ]
  },
  {
   "cell_type": "code",
   "execution_count": 45,
   "id": "e6824a4c",
   "metadata": {},
   "outputs": [
    {
     "data": {
      "text/plain": [
       "Lasso(alpha=0.1)"
      ]
     },
     "execution_count": 45,
     "metadata": {},
     "output_type": "execute_result"
    }
   ],
   "source": [
    "clf = linear_model.Lasso(alpha=0.1)\n",
    "clf.fit(x_train,y_train)"
   ]
  },
  {
   "cell_type": "code",
   "execution_count": 48,
   "id": "903628b7",
   "metadata": {},
   "outputs": [],
   "source": [
    "lasso_y_predicted=clf.predict(x_test)"
   ]
  },
  {
   "cell_type": "code",
   "execution_count": 49,
   "id": "ade8097f",
   "metadata": {},
   "outputs": [
    {
     "name": "stdout",
     "output_type": "stream",
     "text": [
      "RMSE using Linear regreation with L1 : 3.3347616\n"
     ]
    }
   ],
   "source": [
    "RMSE=mean_squared_error(y_test['sold'], y_predicted, squared=True)\n",
    "print('RMSE using Linear regreation with L1 :',RMSE)"
   ]
  },
  {
   "cell_type": "code",
   "execution_count": 51,
   "id": "6563d09b",
   "metadata": {},
   "outputs": [
    {
     "name": "stdout",
     "output_type": "stream",
     "text": [
      "R2:  0.7483995535105836\n"
     ]
    }
   ],
   "source": [
    "l1_r2 = metrics.r2_score(y_test['sold'], lasso_y_predicted)\n",
    "print(\"R2: \",l1_r2)"
   ]
  },
  {
   "cell_type": "markdown",
   "id": "c0974f1e",
   "metadata": {},
   "source": [
    "## Results:"
   ]
  },
  {
   "cell_type": "code",
   "execution_count": 47,
   "id": "3440a252",
   "metadata": {},
   "outputs": [
    {
     "name": "stdout",
     "output_type": "stream",
     "text": [
      "+--------------------------------------------------------------+------------------------------------------+-------+------+\n",
      "|                         Feature INFO                         |                  Model                   |  RMSE |  R2  |\n",
      "+--------------------------------------------------------------+------------------------------------------+-------+------+\n",
      "|                  A. Adding Simple Features                   |                                          |       |      |\n",
      "|                             A.1                              | Linear regression with L1 regularization | 13.05 | 0.02 |\n",
      "|                             A.2                              |              Decision Tree               |  8.77 | 0.34 |\n",
      "|                             A.3                              |              LGBM Regressor              | 11.93 | 0.10 |\n",
      "|                                                              |                                          |       |      |\n",
      "|                    B. Adding Day Features                    |                                          |       |      |\n",
      "|                             B.1                              | Linear regression with L1 regularization | 13.05 | 0.02 |\n",
      "|                             B.2                              |              Decision Tree               |  8.68 | 0.35 |\n",
      "|                             B.3                              |              LGBM Regressor              | 11.91 | 0.10 |\n",
      "|                                                              |                                          |       |      |\n",
      "| C. Adding lags, rolling window and expanding window Features |                                          |       |      |\n",
      "|                             C.1                              | Linear regression with L1 regularization |  3.33 | 0.75 |\n",
      "|                             C.2                              |              Decision Tree               |  7.64 | 0.42 |\n",
      "|                             C.3                              |              LGBM Regressor              |  3.05 | 0.77 |\n",
      "+--------------------------------------------------------------+------------------------------------------+-------+------+\n"
     ]
    }
   ],
   "source": [
    "from prettytable import PrettyTable\n",
    "\n",
    "# Specify the Column Names while initializing the Table\n",
    "myTable = PrettyTable([\"Feature INFO\", \"Model\", \"RMSE\", \"R2\"])\n",
    "\n",
    "\n",
    "# Add rows\n",
    "myTable.add_row([\"A. Adding Simple Features\", \"\", \"\", \"\"])\n",
    "myTable.add_row([\"A.1\", \"Linear regression with L1 regularization\", \"13.05\", \"0.02\"])\n",
    "myTable.add_row([\"A.2\", \"Decision Tree\", \"8.77\", \"0.34\"])\n",
    "myTable.add_row([\"A.3\", \"LGBM Regressor\", \"11.93\", \"0.10\"])\n",
    "myTable.add_row([\"\", \"\", \"\", \"\"])\n",
    "myTable.add_row([\"B. Adding Day Features\", \"\", \"\", \"\"])\n",
    "myTable.add_row([\"B.1\", \"Linear regression with L1 regularization\", \"13.05\", \"0.02\"])\n",
    "myTable.add_row([\"B.2\", \"Decision Tree\", \"8.68\", \"0.35\"])\n",
    "myTable.add_row([\"B.3\", \"LGBM Regressor\", \"11.91\", \"0.10\"])\n",
    "myTable.add_row([\"\", \"\", \"\", \"\"])\n",
    "myTable.add_row([\"C. Adding lags, rolling window and expanding window Features\", \"\", \"\", \"\"])\n",
    "myTable.add_row([\"C.1\", \"Linear regression with L1 regularization\", \"3.33\", \"0.75\"])\n",
    "myTable.add_row([\"C.2\", \"Decision Tree\", \"7.64\", \"0.42\"])\n",
    "myTable.add_row([\"C.3\", \"LGBM Regressor\", \"3.05\", \"0.77\"])\n",
    "\n",
    "myTable.vertical_char = \"|\"\n",
    "myTable.junction_char = \"+\"\n",
    "\n",
    "print(myTable)\n"
   ]
  },
  {
   "cell_type": "markdown",
   "id": "54a77ba6",
   "metadata": {},
   "source": [
    "## Conclusion:\n",
    "1. It can be observed that the model gives the best result with the LGBM regresssion with the least RMSE score and highest R2 value when day features, lags, rolling window and expanding window Features are used as features. \n",
    "2. Additionally, it can be noticed that using the simple features i.e not adding lags, day features and rolling window and expanding, the model performance is the worst. Only adding the day features to the simple features doesnt help improve the model at all"
   ]
  },
  {
   "cell_type": "code",
   "execution_count": null,
   "id": "ecc60333",
   "metadata": {},
   "outputs": [],
   "source": []
  }
 ],
 "metadata": {
  "kernelspec": {
   "display_name": "Python 3 (ipykernel)",
   "language": "python",
   "name": "python3"
  },
  "language_info": {
   "codemirror_mode": {
    "name": "ipython",
    "version": 3
   },
   "file_extension": ".py",
   "mimetype": "text/x-python",
   "name": "python",
   "nbconvert_exporter": "python",
   "pygments_lexer": "ipython3",
   "version": "3.9.12"
  }
 },
 "nbformat": 4,
 "nbformat_minor": 5
}
